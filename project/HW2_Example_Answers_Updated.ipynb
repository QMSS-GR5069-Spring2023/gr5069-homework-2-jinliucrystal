{
 "cells": [
  {
   "cell_type": "markdown",
   "metadata": {
    "id": "HZreMmZ50Gwm"
   },
   "source": [
    "# HW 2: Supervised Learning Models\n",
    "### Answer Guide created by Kate Moore, 2019\n",
    "### Updated by Jie Chen, 2021"
   ]
  },
  {
   "cell_type": "code",
   "execution_count": 1,
   "metadata": {
    "id": "BLiMCXTQ0Gw9"
   },
   "outputs": [],
   "source": [
    "%matplotlib inline\n",
    "import pandas as pd\n",
    "import numpy as np\n",
    "\n",
    "# Supress Warnings\n",
    "import warnings\n",
    "warnings.simplefilter(action='ignore', category=FutureWarning)\n",
    "\n",
    "from sklearn.exceptions import DataConversionWarning\n",
    "warnings.filterwarnings(action='ignore', category=DataConversionWarning)\n",
    "\n",
    "pd.options.display.max_rows = 10"
   ]
  },
  {
   "cell_type": "markdown",
   "metadata": {
    "id": "m0pBTm8l0Gxh"
   },
   "source": [
    "# Part 1: Regression on California Test Scores"
   ]
  },
  {
   "cell_type": "markdown",
   "metadata": {
    "id": "O72kduoy0Gxm"
   },
   "source": [
    "## 1. Find the url for the California Test Score Data Set from the following website: https://vincentarelbundock.github.io/Rdatasets/datasets.html\n"
   ]
  },
  {
   "cell_type": "code",
   "execution_count": 2,
   "metadata": {
    "colab": {
     "base_uri": "https://localhost:8080/",
     "height": 399
    },
    "id": "abXlwBCg0Gxr",
    "outputId": "b234d02f-a2e0-432c-86f8-204320a730f6"
   },
   "outputs": [
    {
     "data": {
      "text/html": [
       "<div>\n",
       "<style scoped>\n",
       "    .dataframe tbody tr th:only-of-type {\n",
       "        vertical-align: middle;\n",
       "    }\n",
       "\n",
       "    .dataframe tbody tr th {\n",
       "        vertical-align: top;\n",
       "    }\n",
       "\n",
       "    .dataframe thead th {\n",
       "        text-align: right;\n",
       "    }\n",
       "</style>\n",
       "<table border=\"1\" class=\"dataframe\">\n",
       "  <thead>\n",
       "    <tr style=\"text-align: right;\">\n",
       "      <th></th>\n",
       "      <th>Unnamed: 0</th>\n",
       "      <th>distcod</th>\n",
       "      <th>county</th>\n",
       "      <th>district</th>\n",
       "      <th>grspan</th>\n",
       "      <th>enrltot</th>\n",
       "      <th>teachers</th>\n",
       "      <th>calwpct</th>\n",
       "      <th>mealpct</th>\n",
       "      <th>computer</th>\n",
       "      <th>testscr</th>\n",
       "      <th>compstu</th>\n",
       "      <th>expnstu</th>\n",
       "      <th>str</th>\n",
       "      <th>avginc</th>\n",
       "      <th>elpct</th>\n",
       "      <th>readscr</th>\n",
       "      <th>mathscr</th>\n",
       "    </tr>\n",
       "  </thead>\n",
       "  <tbody>\n",
       "    <tr>\n",
       "      <th>0</th>\n",
       "      <td>1</td>\n",
       "      <td>75119</td>\n",
       "      <td>Alameda</td>\n",
       "      <td>Sunol Glen Unified</td>\n",
       "      <td>KK-08</td>\n",
       "      <td>195</td>\n",
       "      <td>10.900000</td>\n",
       "      <td>0.510200</td>\n",
       "      <td>2.040800</td>\n",
       "      <td>67</td>\n",
       "      <td>690.799988</td>\n",
       "      <td>0.343590</td>\n",
       "      <td>6384.911133</td>\n",
       "      <td>17.889910</td>\n",
       "      <td>22.690001</td>\n",
       "      <td>0.000000</td>\n",
       "      <td>691.599976</td>\n",
       "      <td>690.000000</td>\n",
       "    </tr>\n",
       "    <tr>\n",
       "      <th>1</th>\n",
       "      <td>2</td>\n",
       "      <td>61499</td>\n",
       "      <td>Butte</td>\n",
       "      <td>Manzanita Elementary</td>\n",
       "      <td>KK-08</td>\n",
       "      <td>240</td>\n",
       "      <td>11.150000</td>\n",
       "      <td>15.416700</td>\n",
       "      <td>47.916698</td>\n",
       "      <td>101</td>\n",
       "      <td>661.200012</td>\n",
       "      <td>0.420833</td>\n",
       "      <td>5099.380859</td>\n",
       "      <td>21.524664</td>\n",
       "      <td>9.824000</td>\n",
       "      <td>4.583333</td>\n",
       "      <td>660.500000</td>\n",
       "      <td>661.900024</td>\n",
       "    </tr>\n",
       "    <tr>\n",
       "      <th>2</th>\n",
       "      <td>3</td>\n",
       "      <td>61549</td>\n",
       "      <td>Butte</td>\n",
       "      <td>Thermalito Union Elementary</td>\n",
       "      <td>KK-08</td>\n",
       "      <td>1550</td>\n",
       "      <td>82.900002</td>\n",
       "      <td>55.032299</td>\n",
       "      <td>76.322601</td>\n",
       "      <td>169</td>\n",
       "      <td>643.599976</td>\n",
       "      <td>0.109032</td>\n",
       "      <td>5501.954590</td>\n",
       "      <td>18.697226</td>\n",
       "      <td>8.978000</td>\n",
       "      <td>30.000002</td>\n",
       "      <td>636.299988</td>\n",
       "      <td>650.900024</td>\n",
       "    </tr>\n",
       "    <tr>\n",
       "      <th>3</th>\n",
       "      <td>4</td>\n",
       "      <td>61457</td>\n",
       "      <td>Butte</td>\n",
       "      <td>Golden Feather Union Elementary</td>\n",
       "      <td>KK-08</td>\n",
       "      <td>243</td>\n",
       "      <td>14.000000</td>\n",
       "      <td>36.475399</td>\n",
       "      <td>77.049202</td>\n",
       "      <td>85</td>\n",
       "      <td>647.700012</td>\n",
       "      <td>0.349794</td>\n",
       "      <td>7101.831055</td>\n",
       "      <td>17.357143</td>\n",
       "      <td>8.978000</td>\n",
       "      <td>0.000000</td>\n",
       "      <td>651.900024</td>\n",
       "      <td>643.500000</td>\n",
       "    </tr>\n",
       "    <tr>\n",
       "      <th>4</th>\n",
       "      <td>5</td>\n",
       "      <td>61523</td>\n",
       "      <td>Butte</td>\n",
       "      <td>Palermo Union Elementary</td>\n",
       "      <td>KK-08</td>\n",
       "      <td>1335</td>\n",
       "      <td>71.500000</td>\n",
       "      <td>33.108601</td>\n",
       "      <td>78.427002</td>\n",
       "      <td>171</td>\n",
       "      <td>640.849976</td>\n",
       "      <td>0.128090</td>\n",
       "      <td>5235.987793</td>\n",
       "      <td>18.671329</td>\n",
       "      <td>9.080333</td>\n",
       "      <td>13.857677</td>\n",
       "      <td>641.799988</td>\n",
       "      <td>639.900024</td>\n",
       "    </tr>\n",
       "  </tbody>\n",
       "</table>\n",
       "</div>"
      ],
      "text/plain": [
       "   Unnamed: 0  distcod   county                         district grspan  \\\n",
       "0           1    75119  Alameda               Sunol Glen Unified  KK-08   \n",
       "1           2    61499    Butte             Manzanita Elementary  KK-08   \n",
       "2           3    61549    Butte      Thermalito Union Elementary  KK-08   \n",
       "3           4    61457    Butte  Golden Feather Union Elementary  KK-08   \n",
       "4           5    61523    Butte         Palermo Union Elementary  KK-08   \n",
       "\n",
       "   enrltot   teachers    calwpct    mealpct  computer     testscr   compstu  \\\n",
       "0      195  10.900000   0.510200   2.040800        67  690.799988  0.343590   \n",
       "1      240  11.150000  15.416700  47.916698       101  661.200012  0.420833   \n",
       "2     1550  82.900002  55.032299  76.322601       169  643.599976  0.109032   \n",
       "3      243  14.000000  36.475399  77.049202        85  647.700012  0.349794   \n",
       "4     1335  71.500000  33.108601  78.427002       171  640.849976  0.128090   \n",
       "\n",
       "       expnstu        str     avginc      elpct     readscr     mathscr  \n",
       "0  6384.911133  17.889910  22.690001   0.000000  691.599976  690.000000  \n",
       "1  5099.380859  21.524664   9.824000   4.583333  660.500000  661.900024  \n",
       "2  5501.954590  18.697226   8.978000  30.000002  636.299988  650.900024  \n",
       "3  7101.831055  17.357143   8.978000   0.000000  651.900024  643.500000  \n",
       "4  5235.987793  18.671329   9.080333  13.857677  641.799988  639.900024  "
      ]
     },
     "execution_count": 2,
     "metadata": {},
     "output_type": "execute_result"
    }
   ],
   "source": [
    "df = pd.read_csv(\"https://vincentarelbundock.github.io/Rdatasets/csv/Ecdat/Caschool.csv\")\n",
    "df.head()"
   ]
  },
  {
   "cell_type": "markdown",
   "metadata": {
    "id": "Rw4GFzkL0GyA"
   },
   "source": [
    "## 1.1 Visualize the univariate distribution of the target feature and each of the three continuous explanatory variables that you think are likely to have a relationship with the target feature.  "
   ]
  },
  {
   "cell_type": "code",
   "execution_count": 3,
   "metadata": {
    "colab": {
     "base_uri": "https://localhost:8080/",
     "height": 283
    },
    "id": "kDd0T4fd0GyG",
    "outputId": "2252d7c9-0342-4624-cc1d-2e8dc305b731"
   },
   "outputs": [
    {
     "data": {
      "text/plain": [
       "<AxesSubplot:>"
      ]
     },
     "execution_count": 3,
     "metadata": {},
     "output_type": "execute_result"
    },
    {
     "data": {
      "image/png": "[encoded data removed]",
      "text/plain": [
       "<Figure size 432x288 with 1 Axes>"
      ]
     },
     "metadata": {
      "needs_background": "light"
     },
     "output_type": "display_data"
    }
   ],
   "source": [
    "df['testscr'].hist()"
   ]
  },
  {
   "cell_type": "code",
   "execution_count": 4,
   "metadata": {
    "colab": {
     "base_uri": "https://localhost:8080/",
     "height": 283
    },
    "id": "eNmPHhjf0GyW",
    "outputId": "90cf5259-f8d0-41a0-9ee0-2c7bc111d54d"
   },
   "outputs": [
    {
     "data": {
      "text/plain": [
       "<AxesSubplot:>"
      ]
     },
     "execution_count": 4,
     "metadata": {},
     "output_type": "execute_result"
    },
    {
     "data": {
      "image/png": "[encoded data removed]",
      "text/plain": [
       "<Figure size 432x288 with 1 Axes>"
      ]
     },
     "metadata": {
      "needs_background": "light"
     },
     "output_type": "display_data"
    }
   ],
   "source": [
    "df['expnstu'].hist()"
   ]
  },
  {
   "cell_type": "code",
   "execution_count": 5,
   "metadata": {
    "colab": {
     "base_uri": "https://localhost:8080/",
     "height": 283
    },
    "id": "VLJVFgVJ0Gyv",
    "outputId": "dc7e8b25-428e-4b60-fd87-aef5afb01177"
   },
   "outputs": [
    {
     "data": {
      "text/plain": [
       "<AxesSubplot:>"
      ]
     },
     "execution_count": 5,
     "metadata": {},
     "output_type": "execute_result"
    },
    {
     "data": {
      "image/png": "[encoded data removed]",
      "text/plain": [
       "<Figure size 432x288 with 1 Axes>"
      ]
     },
     "metadata": {
      "needs_background": "light"
     },
     "output_type": "display_data"
    }
   ],
   "source": [
    "df['str'].hist()"
   ]
  },
  {
   "cell_type": "code",
   "execution_count": 6,
   "metadata": {
    "colab": {
     "base_uri": "https://localhost:8080/",
     "height": 283
    },
    "id": "ySHB2TAi0GzA",
    "outputId": "ec3ecbcc-f2a5-4f99-9b69-a2b282a92ac5"
   },
   "outputs": [
    {
     "data": {
      "text/plain": [
       "<AxesSubplot:>"
      ]
     },
     "execution_count": 6,
     "metadata": {},
     "output_type": "execute_result"
    },
    {
     "data": {
      "image/png": "[encoded data removed]",
      "text/plain": [
       "<Figure size 432x288 with 1 Axes>"
      ]
     },
     "metadata": {
      "needs_background": "light"
     },
     "output_type": "display_data"
    }
   ],
   "source": [
    "df['avginc'].hist()"
   ]
  },
  {
   "cell_type": "markdown",
   "metadata": {
    "id": "ulJoj4ah0GzT"
   },
   "source": [
    "## 1.2 Visualize the dependency of the target on each feature from 1.1."
   ]
  },
  {
   "cell_type": "code",
   "execution_count": 7,
   "metadata": {
    "colab": {
     "base_uri": "https://localhost:8080/",
     "height": 279
    },
    "id": "E3F2v49_0Gzf",
    "outputId": "89149c88-66c9-453e-876c-c5c7a40500cc"
   },
   "outputs": [
    {
     "data": {
      "image/png": "[encoded data removed]",
      "text/plain": [
       "<Figure size 432x288 with 1 Axes>"
      ]
     },
     "metadata": {
      "needs_background": "light"
     },
     "output_type": "display_data"
    }
   ],
   "source": [
    "import seaborn as sns\n",
    "x = sns.regplot(x=\"testscr\", y=\"expnstu\", data=df, color='r')"
   ]
  },
  {
   "cell_type": "code",
   "execution_count": 8,
   "metadata": {
    "colab": {
     "base_uri": "https://localhost:8080/",
     "height": 279
    },
    "id": "myiREhAW0Gzv",
    "outputId": "12ff00a7-de2e-4cbd-99b3-4bf487a21b01"
   },
   "outputs": [
    {
     "data": {
      "image/png": "[encoded data removed]",
      "text/plain": [
       "<Figure size 432x288 with 1 Axes>"
      ]
     },
     "metadata": {
      "needs_background": "light"
     },
     "output_type": "display_data"
    }
   ],
   "source": [
    "x = sns.regplot(x=\"testscr\", y=\"str\", data=df, color='g')"
   ]
  },
  {
   "cell_type": "code",
   "execution_count": 9,
   "metadata": {
    "colab": {
     "base_uri": "https://localhost:8080/",
     "height": 279
    },
    "id": "QrLkZq-k0Gz-",
    "outputId": "15cbb3d8-f711-4170-a2ee-53d21460bb9e"
   },
   "outputs": [
    {
     "data": {
      "image/png": "[encoded data removed]",
      "text/plain": [
       "<Figure size 432x288 with 1 Axes>"
      ]
     },
     "metadata": {
      "needs_background": "light"
     },
     "output_type": "display_data"
    }
   ],
   "source": [
    "x = sns.regplot(x=\"testscr\", y=\"avginc\", data=df)"
   ]
  },
  {
   "cell_type": "markdown",
   "metadata": {
    "id": "yvDCB5lJ0G0O"
   },
   "source": [
    "## 1.3a Split data in training and test set."
   ]
  },
  {
   "cell_type": "code",
   "execution_count": 10,
   "metadata": {
    "colab": {
     "base_uri": "https://localhost:8080/",
     "height": 206
    },
    "id": "B0BR4Lj40G0S",
    "outputId": "2871ff97-ad5c-4523-8c1c-313afe268265"
   },
   "outputs": [
    {
     "data": {
      "text/html": [
       "<div>\n",
       "<style scoped>\n",
       "    .dataframe tbody tr th:only-of-type {\n",
       "        vertical-align: middle;\n",
       "    }\n",
       "\n",
       "    .dataframe tbody tr th {\n",
       "        vertical-align: top;\n",
       "    }\n",
       "\n",
       "    .dataframe thead th {\n",
       "        text-align: right;\n",
       "    }\n",
       "</style>\n",
       "<table border=\"1\" class=\"dataframe\">\n",
       "  <thead>\n",
       "    <tr style=\"text-align: right;\">\n",
       "      <th></th>\n",
       "      <th>enrltot</th>\n",
       "      <th>teachers</th>\n",
       "      <th>calwpct</th>\n",
       "      <th>mealpct</th>\n",
       "      <th>computer</th>\n",
       "      <th>compstu</th>\n",
       "      <th>expnstu</th>\n",
       "      <th>str</th>\n",
       "      <th>avginc</th>\n",
       "      <th>elpct</th>\n",
       "    </tr>\n",
       "  </thead>\n",
       "  <tbody>\n",
       "    <tr>\n",
       "      <th>0</th>\n",
       "      <td>195</td>\n",
       "      <td>10.900000</td>\n",
       "      <td>0.510200</td>\n",
       "      <td>2.040800</td>\n",
       "      <td>67</td>\n",
       "      <td>0.343590</td>\n",
       "      <td>6384.911133</td>\n",
       "      <td>17.889910</td>\n",
       "      <td>22.690001</td>\n",
       "      <td>0.000000</td>\n",
       "    </tr>\n",
       "    <tr>\n",
       "      <th>1</th>\n",
       "      <td>240</td>\n",
       "      <td>11.150000</td>\n",
       "      <td>15.416700</td>\n",
       "      <td>47.916698</td>\n",
       "      <td>101</td>\n",
       "      <td>0.420833</td>\n",
       "      <td>5099.380859</td>\n",
       "      <td>21.524664</td>\n",
       "      <td>9.824000</td>\n",
       "      <td>4.583333</td>\n",
       "    </tr>\n",
       "    <tr>\n",
       "      <th>2</th>\n",
       "      <td>1550</td>\n",
       "      <td>82.900002</td>\n",
       "      <td>55.032299</td>\n",
       "      <td>76.322601</td>\n",
       "      <td>169</td>\n",
       "      <td>0.109032</td>\n",
       "      <td>5501.954590</td>\n",
       "      <td>18.697226</td>\n",
       "      <td>8.978000</td>\n",
       "      <td>30.000002</td>\n",
       "    </tr>\n",
       "    <tr>\n",
       "      <th>3</th>\n",
       "      <td>243</td>\n",
       "      <td>14.000000</td>\n",
       "      <td>36.475399</td>\n",
       "      <td>77.049202</td>\n",
       "      <td>85</td>\n",
       "      <td>0.349794</td>\n",
       "      <td>7101.831055</td>\n",
       "      <td>17.357143</td>\n",
       "      <td>8.978000</td>\n",
       "      <td>0.000000</td>\n",
       "    </tr>\n",
       "    <tr>\n",
       "      <th>4</th>\n",
       "      <td>1335</td>\n",
       "      <td>71.500000</td>\n",
       "      <td>33.108601</td>\n",
       "      <td>78.427002</td>\n",
       "      <td>171</td>\n",
       "      <td>0.128090</td>\n",
       "      <td>5235.987793</td>\n",
       "      <td>18.671329</td>\n",
       "      <td>9.080333</td>\n",
       "      <td>13.857677</td>\n",
       "    </tr>\n",
       "  </tbody>\n",
       "</table>\n",
       "</div>"
      ],
      "text/plain": [
       "   enrltot   teachers    calwpct    mealpct  computer   compstu      expnstu  \\\n",
       "0      195  10.900000   0.510200   2.040800        67  0.343590  6384.911133   \n",
       "1      240  11.150000  15.416700  47.916698       101  0.420833  5099.380859   \n",
       "2     1550  82.900002  55.032299  76.322601       169  0.109032  5501.954590   \n",
       "3      243  14.000000  36.475399  77.049202        85  0.349794  7101.831055   \n",
       "4     1335  71.500000  33.108601  78.427002       171  0.128090  5235.987793   \n",
       "\n",
       "         str     avginc      elpct  \n",
       "0  17.889910  22.690001   0.000000  \n",
       "1  21.524664   9.824000   4.583333  \n",
       "2  18.697226   8.978000  30.000002  \n",
       "3  17.357143   8.978000   0.000000  \n",
       "4  18.671329   9.080333  13.857677  "
      ]
     },
     "execution_count": 10,
     "metadata": {},
     "output_type": "execute_result"
    }
   ],
   "source": [
    "from sklearn.model_selection import train_test_split\n",
    "\n",
    "corrected_data = df.drop(df.columns[[16, 17]], axis=1) # remove the reading and math scores from the dataset\n",
    "data = corrected_data.iloc[:, 5:] # delete first six columns\n",
    "\n",
    "y = data['testscr'] # assign outcome variable, i.e. what we want to predict\n",
    "X = data.loc[:, data.columns != 'testscr'] # assign all other values as X-values, i.e. variables we use to predict\n",
    "\n",
    "X_train, X_test, y_train, y_test = train_test_split(X, y, random_state=42) \n",
    "# randomly assign some data to the test-set and the rest to the training-set\n",
    "\n",
    "X.head()"
   ]
  },
  {
   "cell_type": "markdown",
   "metadata": {
    "id": "EVqKb37e0G0j"
   },
   "source": [
    "## 1.3b Build models that evaluate the relationship between all available X variables in the California test dataset and the target variable."
   ]
  },
  {
   "cell_type": "markdown",
   "metadata": {
    "id": "A18P0l5H0G0_"
   },
   "source": [
    "### KNN for regression with cross-validation\n",
    "Evaluate KNN for regression, Linear Regression (OLS), Ridge, and Lasso using cross-validation with the default parameters."
   ]
  },
  {
   "cell_type": "code",
   "execution_count": 11,
   "metadata": {
    "colab": {
     "base_uri": "https://localhost:8080/"
    },
    "id": "bqpT_Mu_0G1C",
    "outputId": "142c3706-fbf9-4ed7-a385-03cc98c7d27b"
   },
   "outputs": [
    {
     "name": "stdout",
     "output_type": "stream",
     "text": [
      "KNN for REGRESSION (UNSCALED DATA)\n",
      "Training set score: 0.303\n",
      "Test set score: 0.085\n",
      "Mean Cross-Validation, Kfold: -0.054\n"
     ]
    }
   ],
   "source": [
    "from sklearn.model_selection import cross_val_score\n",
    "from sklearn.neighbors import KNeighborsRegressor\n",
    "\n",
    "knn = KNeighborsRegressor() # Play around with n_neighbors to determine best fit\n",
    "knn.fit(X_train, y_train)\n",
    "\n",
    "print(\"KNN for REGRESSION (UNSCALED DATA)\")\n",
    "\n",
    "# Training and Test Scores\n",
    "print(\"Training set score: {:.3f}\".format(knn.score(X_train, y_train)))\n",
    "print(\"Test set score: {:.3f}\".format(knn.score(X_test, y_test)))\n",
    "\n",
    "# Kfold cross validation\n",
    "print(\"Mean Cross-Validation, Kfold: {:.3f}\".format(np.mean(cross_val_score(knn, X_train, y_train))))\n",
    "\n",
    "knn_unscaled = np.mean(cross_val_score(knn, X_train, y_train)) # Will use later to compare results"
   ]
  },
  {
   "cell_type": "markdown",
   "metadata": {
    "id": "g9tfjKQZ0G1P"
   },
   "source": [
    "**Note:** KNN Regression with unscaled data is not accurate."
   ]
  },
  {
   "cell_type": "markdown",
   "metadata": {
    "id": "bG4SZQAs0G1R"
   },
   "source": [
    "### Linear Regression (OLS) with cross-validation"
   ]
  },
  {
   "cell_type": "code",
   "execution_count": 12,
   "metadata": {
    "colab": {
     "base_uri": "https://localhost:8080/"
    },
    "id": "5HPUUHd10G1U",
    "outputId": "8332a32a-7c71-4bb3-8848-bf35a08b27ab"
   },
   "outputs": [
    {
     "name": "stdout",
     "output_type": "stream",
     "text": [
      "LINEAR REGRESSION (UNSCALED DATA)\n",
      "Training set score: 0.805\n",
      "Test set score: 0.807\n",
      "Mean Cross-Validation, Kfold: 0.781\n"
     ]
    }
   ],
   "source": [
    "from sklearn.linear_model import LinearRegression\n",
    "\n",
    "lr = LinearRegression().fit(X_train, y_train) # Fit the training data to a regression line\n",
    "\n",
    "print(\"LINEAR REGRESSION (UNSCALED DATA)\")\n",
    "print(\"Training set score: {:.3f}\".format(lr.score(X_train, y_train)))\n",
    "print(\"Test set score: {:.3f}\".format(lr.score(X_test, y_test)))\n",
    "\n",
    "# Kfold cross validation\n",
    "print(\"Mean Cross-Validation, Kfold: {:.3f}\".format(np.mean(cross_val_score(lr, X_train, y_train))))\n",
    "\n",
    "OLS_unscaled = np.mean(cross_val_score(lr, X_train, y_train)) # Will use later to compare results"
   ]
  },
  {
   "cell_type": "markdown",
   "metadata": {
    "id": "qR07Odx_0G1m"
   },
   "source": [
    "**Note:** Linear Regression with unscaled data has an avg. accuracy of 78%."
   ]
  },
  {
   "cell_type": "markdown",
   "metadata": {
    "id": "PA91Qu4p0G1p"
   },
   "source": [
    "### Ridge with cross-validation"
   ]
  },
  {
   "cell_type": "code",
   "execution_count": 13,
   "metadata": {
    "colab": {
     "base_uri": "https://localhost:8080/"
    },
    "id": "Ug_DTTrT0G1r",
    "outputId": "aadaae70-0807-4670-cb75-8e9ef2a35cc0"
   },
   "outputs": [
    {
     "name": "stdout",
     "output_type": "stream",
     "text": [
      "RIDGE REGRESSION (UNSCALED DATA)\n",
      "Training set score: 0.805\n",
      "Test set score: 0.807\n",
      "Mean Cross-Validation, Kfold: 0.783\n"
     ]
    }
   ],
   "source": [
    "from sklearn.linear_model import Ridge\n",
    "\n",
    "ridge = Ridge().fit(X_train, y_train) # Fit the training data to a ridge regression line\n",
    "\n",
    "print(\"RIDGE REGRESSION (UNSCALED DATA)\") # Ridge is L2 penalty, which adds “squared magnitude” of coefficient as penalty term to the loss function. Good for avoiding the over-fitting issue\n",
    "print(\"Training set score: {:.3f}\".format(ridge.score(X_train, y_train)))\n",
    "print(\"Test set score: {:.3f}\".format(ridge.score(X_test, y_test)))\n",
    "\n",
    "# Kfold cross validation\n",
    "print(\"Mean Cross-Validation, Kfold: {:.3f}\".format(np.mean(cross_val_score(ridge, X_train, y_train))))\n",
    "\n",
    "ridge_unscaled = np.mean(cross_val_score(ridge, X_train, y_train)) # Will use later to compare results"
   ]
  },
  {
   "cell_type": "markdown",
   "metadata": {
    "id": "t4spCNmc0G16"
   },
   "source": [
    "**Note:** Ridge Regression with unscaled data has an avg. accuracy of 78%."
   ]
  },
  {
   "cell_type": "markdown",
   "metadata": {
    "id": "BwUqr6U40G19"
   },
   "source": [
    "### LASSO with cross-validation"
   ]
  },
  {
   "cell_type": "code",
   "execution_count": 14,
   "metadata": {
    "colab": {
     "base_uri": "https://localhost:8080/"
    },
    "id": "yhgYccwq0G2B",
    "outputId": "be75a5f9-11a8-4fc6-f559-b7b118d1aeaf"
   },
   "outputs": [
    {
     "name": "stdout",
     "output_type": "stream",
     "text": [
      "LASSO REGRESSION (UNSCALED DATA)\n",
      "Training set score: 0.805\n",
      "Test set score: 0.807\n",
      "Mean Cross-Validation, Kfold: 0.787\n"
     ]
    }
   ],
   "source": [
    "# Lasso will give you ConvergenceWarning, ignore it\n",
    "import warnings\n",
    "warnings.filterwarnings('ignore')\n",
    "\n",
    "from sklearn.linear_model import Lasso\n",
    "\n",
    "lasso = Lasso().fit(X_train, y_train) # Fit the training data to a lasso regression line with alpha = 0.01 and 100,000 iterations\n",
    "\n",
    "print(\"LASSO REGRESSION (UNSCALED DATA)\") # LASSO is L1 penalty, which adds “absolute value of magnitude” of coefficient as penalty term to the loss function. Good for feature selection when you have a lot of features.\n",
    "print(\"Training set score: {:.3f}\".format(lasso.score(X_train, y_train)))\n",
    "print(\"Test set score: {:.3f}\".format(lasso.score(X_test, y_test)))\n",
    "\n",
    "# Kfold cross validation\n",
    "print(\"Mean Cross-Validation, Kfold: {:.3f}\".format(np.mean(cross_val_score(lasso, X_train, y_train))))\n",
    "\n",
    "lasso_unscaled = np.mean(cross_val_score(lasso, X_train, y_train)) # Will use later to compare results"
   ]
  },
  {
   "cell_type": "markdown",
   "metadata": {
    "id": "izvVHV9N0G2K"
   },
   "source": [
    "**Note:** Lasso regression with unscaled data as the same avg. accuracy as Ridge, 78%."
   ]
  },
  {
   "cell_type": "markdown",
   "metadata": {
    "id": "hCt2wqpC0G2N"
   },
   "source": [
    "## 1.3c Does scaling the data with the StandardScaler help?"
   ]
  },
  {
   "cell_type": "code",
   "execution_count": 15,
   "metadata": {
    "id": "fmhzW70z0G2T"
   },
   "outputs": [],
   "source": [
    "from sklearn import preprocessing\n",
    "\n",
    "# Here, I standardize by X data using StandardScalar\n",
    "scaler = preprocessing.StandardScaler().fit(X_train)\n",
    "X_train_scaled = scaler.transform(X_train)\n",
    "X_test_scaled = scaler.transform(X_test)"
   ]
  },
  {
   "cell_type": "markdown",
   "metadata": {
    "id": "DF5DX4K10G2c"
   },
   "source": [
    "### Scaled KNN Regression"
   ]
  },
  {
   "cell_type": "code",
   "execution_count": 16,
   "metadata": {
    "colab": {
     "base_uri": "https://localhost:8080/"
    },
    "id": "X45LXwzE0G2e",
    "outputId": "7f8b0161-f9e6-4fcd-a299-a70afcedc526"
   },
   "outputs": [
    {
     "name": "stdout",
     "output_type": "stream",
     "text": [
      "KNN for REGRESSION (SCALED DATA)\n",
      "Training set score: 0.809\n",
      "Test set score: 0.769\n",
      "Mean Cross-Validation, Kfold: 0.711\n"
     ]
    }
   ],
   "source": [
    "knn = KNeighborsRegressor().fit(X_train_scaled, y_train)\n",
    "\n",
    "print(\"KNN for REGRESSION (SCALED DATA)\")\n",
    "print(\"Training set score: {:.3f}\".format(knn.score(X_train_scaled, y_train)))\n",
    "print(\"Test set score: {:.3f}\".format(knn.score(X_test_scaled, y_test)))\n",
    "\n",
    "# Kfold cross validation\n",
    "print(\"Mean Cross-Validation, Kfold: {:.3f}\".format(np.mean(cross_val_score(knn, X_train_scaled, y_train))))\n",
    "\n",
    "knn_scaled = np.mean(cross_val_score(knn, X_train_scaled, y_train))"
   ]
  },
  {
   "cell_type": "markdown",
   "metadata": {
    "id": "ghvhujHh0G2o"
   },
   "source": [
    "**Note:** Avg. accuracy of KNN model improves greatly with scaled data."
   ]
  },
  {
   "cell_type": "code",
   "execution_count": 17,
   "metadata": {
    "colab": {
     "base_uri": "https://localhost:8080/"
    },
    "id": "-wPvvciL0G2r",
    "outputId": "361e19b9-6bdd-4420-ca31-0b5cf766dbcf"
   },
   "outputs": [
    {
     "name": "stdout",
     "output_type": "stream",
     "text": [
      "KNN with unscaled data: -0.054\n",
      "KNN with scaled data  : 0.711\n"
     ]
    }
   ],
   "source": [
    "print(\"KNN with unscaled data: {:.3f}\".format(knn_unscaled))\n",
    "print(\"KNN with scaled data  : {:.3f}\".format(knn_scaled))"
   ]
  },
  {
   "cell_type": "markdown",
   "metadata": {
    "id": "yBOyTAF20G2z"
   },
   "source": [
    "### Scaled Linear Regression (OLS)"
   ]
  },
  {
   "cell_type": "code",
   "execution_count": 18,
   "metadata": {
    "colab": {
     "base_uri": "https://localhost:8080/"
    },
    "id": "CWIuciev0G21",
    "outputId": "31df200f-fa89-4096-98b3-70314c43062f"
   },
   "outputs": [
    {
     "name": "stdout",
     "output_type": "stream",
     "text": [
      "LINEAR REGRESSION (SCALED DATA)\n",
      "Training set score: 0.805\n",
      "Test set score: 0.807\n",
      "Mean Cross-Validation, Kfold: 0.781\n"
     ]
    }
   ],
   "source": [
    "lr = LinearRegression().fit(X_train_scaled, y_train)\n",
    "\n",
    "print(\"LINEAR REGRESSION (SCALED DATA)\")\n",
    "print(\"Training set score: {:.3f}\".format(lr.score(X_train_scaled, y_train)))\n",
    "print(\"Test set score: {:.3f}\".format(lr.score(X_test_scaled, y_test)))\n",
    "\n",
    "# Kfold cross validation\n",
    "print(\"Mean Cross-Validation, Kfold: {:.3f}\".format(np.mean(cross_val_score(lr, X_train_scaled, y_train))))\n",
    "\n",
    "OLS_scaled = np.mean(cross_val_score(lr, X_train_scaled, y_train))"
   ]
  },
  {
   "cell_type": "markdown",
   "metadata": {
    "id": "LLCu5Xz30G28"
   },
   "source": [
    "**Note:** Avg. accuracy of linear regression model does not improve with scaled data."
   ]
  },
  {
   "cell_type": "code",
   "execution_count": 19,
   "metadata": {
    "colab": {
     "base_uri": "https://localhost:8080/"
    },
    "id": "A97j4BHm0G2-",
    "outputId": "b101560a-3f06-433c-b254-072192482431"
   },
   "outputs": [
    {
     "name": "stdout",
     "output_type": "stream",
     "text": [
      "Linear regression with unscaled data: 0.781\n",
      "Linear regression with scaled data  : 0.781\n"
     ]
    }
   ],
   "source": [
    "print(\"Linear regression with unscaled data: {:.3f}\".format(OLS_unscaled))\n",
    "print(\"Linear regression with scaled data  : {:.3f}\".format(OLS_scaled))"
   ]
  },
  {
   "cell_type": "markdown",
   "metadata": {
    "id": "1eW2I1eT0G3J"
   },
   "source": [
    "### Scaled Ridge Regression"
   ]
  },
  {
   "cell_type": "code",
   "execution_count": 20,
   "metadata": {
    "colab": {
     "base_uri": "https://localhost:8080/"
    },
    "id": "SyNIws9R0G3O",
    "outputId": "4759235b-e01e-412e-86f8-6b79036641ba"
   },
   "outputs": [
    {
     "name": "stdout",
     "output_type": "stream",
     "text": [
      "RIDGE REGRESSION (SCALED DATA)\n",
      "Training set score: 0.805\n",
      "Test set score: 0.807\n",
      "Mean Cross-Validation, Kfold: 0.783\n"
     ]
    }
   ],
   "source": [
    "ridge = Ridge().fit(X_train_scaled, y_train)\n",
    "\n",
    "print(\"RIDGE REGRESSION (SCALED DATA)\")\n",
    "print(\"Training set score: {:.3f}\".format(ridge.score(X_train_scaled, y_train)))\n",
    "print(\"Test set score: {:.3f}\".format(ridge.score(X_test_scaled, y_test)))\n",
    "\n",
    "# Kfold cross validation\n",
    "print(\"Mean Cross-Validation, Kfold: {:.3f}\".format(np.mean(cross_val_score(ridge, X_train_scaled, y_train))))\n",
    "\n",
    "ridge_scaled = np.mean(cross_val_score(ridge, X_train_scaled, y_train))"
   ]
  },
  {
   "cell_type": "markdown",
   "metadata": {
    "id": "kFoQLjyE0G3b"
   },
   "source": [
    "**Note:** Avg. accuracy of ridge model does not improve with scaled data."
   ]
  },
  {
   "cell_type": "code",
   "execution_count": 21,
   "metadata": {
    "colab": {
     "base_uri": "https://localhost:8080/"
    },
    "id": "LyX-cGq30G3e",
    "outputId": "d533cab3-9344-4006-e43e-3baf728f7207"
   },
   "outputs": [
    {
     "name": "stdout",
     "output_type": "stream",
     "text": [
      "Ridge regression with unscaled data: 0.783\n",
      "Ridge regression with scaled data  : 0.783\n"
     ]
    }
   ],
   "source": [
    "print(\"Ridge regression with unscaled data: {:.3f}\".format(ridge_unscaled))\n",
    "print(\"Ridge regression with scaled data  : {:.3f}\".format(ridge_scaled))"
   ]
  },
  {
   "cell_type": "markdown",
   "metadata": {
    "id": "AiPiS8-P0G3l"
   },
   "source": [
    "### Scaled Lasso Regression"
   ]
  },
  {
   "cell_type": "code",
   "execution_count": 22,
   "metadata": {
    "colab": {
     "base_uri": "https://localhost:8080/"
    },
    "id": "MOHoWC810G3n",
    "outputId": "dbe90211-f974-4d18-c7d7-5d5a21c21efd"
   },
   "outputs": [
    {
     "name": "stdout",
     "output_type": "stream",
     "text": [
      "LASSO REGRESSION (SCALED DATA)\n",
      "Training set score: 0.797\n",
      "Test set score: 0.786\n",
      "Mean Cross-Validation, Kfold: 0.784\n"
     ]
    }
   ],
   "source": [
    "lasso = Lasso().fit(X_train_scaled, y_train)\n",
    "\n",
    "print(\"LASSO REGRESSION (SCALED DATA)\")\n",
    "print(\"Training set score: {:.3f}\".format(lasso.score(X_train_scaled, y_train)))\n",
    "print(\"Test set score: {:.3f}\".format(lasso.score(X_test_scaled, y_test)))\n",
    "\n",
    "# Kfold cross validation\n",
    "print(\"Mean Cross-Validation, Kfold: {:.3f}\".format(np.mean(cross_val_score(lasso, X_train_scaled, y_train))))\n",
    "\n",
    "lasso_scaled = np.mean(cross_val_score(lasso, X_train_scaled, y_train))"
   ]
  },
  {
   "cell_type": "markdown",
   "metadata": {
    "id": "aeukElb40G3y"
   },
   "source": [
    "**Note:** Avg. accuracy of LASSO model does not improve with scaled data."
   ]
  },
  {
   "cell_type": "code",
   "execution_count": 23,
   "metadata": {
    "colab": {
     "base_uri": "https://localhost:8080/"
    },
    "id": "X0Aef53o0G3z",
    "outputId": "c859e081-aeb9-419b-e5a2-f8ff59641ab2"
   },
   "outputs": [
    {
     "name": "stdout",
     "output_type": "stream",
     "text": [
      "LASSO regression with unscaled data: 0.787\n",
      "LASSO regression with scaled data  : 0.784\n"
     ]
    }
   ],
   "source": [
    "print(\"LASSO regression with unscaled data: {:.3f}\".format(lasso_unscaled))\n",
    "print(\"LASSO regression with scaled data  : {:.3f}\".format(lasso_scaled))"
   ]
  },
  {
   "cell_type": "markdown",
   "metadata": {
    "id": "jsrirmrL0G37"
   },
   "source": [
    "**Answer:** \n",
    "Scalling improves training scores for KNN, but affords little change to the other methods."
   ]
  },
  {
   "cell_type": "markdown",
   "metadata": {
    "id": "KbAPAmAY0G3-"
   },
   "source": [
    "## 1.4 Tune the parameters of the models where possible using GridSearchCV. "
   ]
  },
  {
   "cell_type": "code",
   "execution_count": 24,
   "metadata": {
    "id": "iSsiGXhb0G4A"
   },
   "outputs": [],
   "source": [
    "from sklearn.pipeline import make_pipeline\n",
    "from sklearn.model_selection import GridSearchCV\n",
    "from sklearn.preprocessing import StandardScaler"
   ]
  },
  {
   "cell_type": "markdown",
   "metadata": {
    "id": "2Z7UeZ5f0G4I"
   },
   "source": [
    "### GridsearchCV with KNN Regression"
   ]
  },
  {
   "cell_type": "code",
   "execution_count": 25,
   "metadata": {
    "colab": {
     "base_uri": "https://localhost:8080/"
    },
    "id": "4T6-loqx0G4J",
    "outputId": "07b77c70-5bef-4f7a-8c7e-218c709b91a9"
   },
   "outputs": [
    {
     "name": "stdout",
     "output_type": "stream",
     "text": [
      "KNN for REGRESSION (SCALED DATA)\n",
      "Best Parameter: {'n_neighbors': 6}\n",
      "Best Cross-Validation Score: 0.719\n",
      "Test set Score: 0.782\n"
     ]
    }
   ],
   "source": [
    "knn_param_grid = {'n_neighbors': range(1, 10)}\n",
    "knn_grid = GridSearchCV(KNeighborsRegressor(), knn_param_grid).fit(X_train_scaled, y_train)\n",
    "\n",
    "print(\"KNN for REGRESSION (SCALED DATA)\")\n",
    "print(\"Best Parameter: {}\".format(knn_grid.best_params_))\n",
    "print(\"Best Cross-Validation Score: {:.3f}\".format(knn_grid.best_score_))\n",
    "print(\"Test set Score: {:.3f}\".format(knn_grid.score(X_test_scaled, y_test)))"
   ]
  },
  {
   "cell_type": "markdown",
   "metadata": {
    "id": "XwIDR4lT0G4Q"
   },
   "source": [
    "**Note:** Best parameter for KNN is n_neighbors = 6"
   ]
  },
  {
   "cell_type": "code",
   "execution_count": 26,
   "metadata": {
    "colab": {
     "base_uri": "https://localhost:8080/"
    },
    "id": "uAnDcWNm0G4V",
    "outputId": "7b844f24-52d4-49e3-9466-bc919d0aa8f1"
   },
   "outputs": [
    {
     "name": "stdout",
     "output_type": "stream",
     "text": [
      "KNN Test set score: 0.782\n"
     ]
    }
   ],
   "source": [
    "knn = KNeighborsRegressor(n_neighbors=6).fit(X_train_scaled, y_train)\n",
    "print(\"KNN Test set score: {:.3f}\".format(knn.score(X_test_scaled, y_test)))\n",
    "best_knn = knn.score(X_test_scaled, y_test)"
   ]
  },
  {
   "cell_type": "markdown",
   "metadata": {
    "id": "8siJ_lwp0G4b"
   },
   "source": [
    "### GridsearchCV with Linear Regression (OLS)"
   ]
  },
  {
   "cell_type": "markdown",
   "metadata": {
    "id": "BQlHqpfO0G4d"
   },
   "source": [
    "**Note:** There are no parameters to 'tune' with OLS."
   ]
  },
  {
   "cell_type": "markdown",
   "metadata": {
    "id": "aNKILFcQ0G4f"
   },
   "source": [
    "### Gridsearch with Ridge Regression"
   ]
  },
  {
   "cell_type": "code",
   "execution_count": 27,
   "metadata": {
    "colab": {
     "base_uri": "https://localhost:8080/"
    },
    "id": "L3Uqrpdf0G4g",
    "outputId": "ca682791-2ee7-4e47-a9ca-dde41eae887d"
   },
   "outputs": [
    {
     "name": "stdout",
     "output_type": "stream",
     "text": [
      "RIDGE REGRESSION (SCALED DATA)\n",
      "Best Parameter: {'alpha': 10}\n",
      "Best Cross-Validation Score: 0.786\n",
      "Test set Score: 0.804\n"
     ]
    }
   ],
   "source": [
    "ridge_param_grid = {'alpha': [0.00001, 0.0001, 0.001, 0.01, 0.1, 1, 10, 100, 1000]}\n",
    "ridge_grid = GridSearchCV(Ridge(), ridge_param_grid).fit(X_train_scaled, y_train)\n",
    "\n",
    "print(\"RIDGE REGRESSION (SCALED DATA)\")\n",
    "print(\"Best Parameter: {}\".format(ridge_grid.best_params_))\n",
    "print(\"Best Cross-Validation Score: {:.3f}\".format(ridge_grid.best_score_))\n",
    "print(\"Test set Score: {:.3f}\".format(ridge_grid.score(X_test_scaled, y_test)))"
   ]
  },
  {
   "cell_type": "markdown",
   "metadata": {
    "id": "uLwBXqB60G4n"
   },
   "source": [
    "**Note:** Best parameter for ridge regression is alpha = 10"
   ]
  },
  {
   "cell_type": "code",
   "execution_count": 28,
   "metadata": {
    "colab": {
     "base_uri": "https://localhost:8080/"
    },
    "id": "Qrkw-sa90G4p",
    "outputId": "675edd4f-2dff-4234-df20-bd3dd0b762cb"
   },
   "outputs": [
    {
     "name": "stdout",
     "output_type": "stream",
     "text": [
      "Ridge test set score: 0.804\n"
     ]
    }
   ],
   "source": [
    "ridge = Ridge(alpha=10).fit(X_train_scaled, y_train)\n",
    "print(\"Ridge test set score: {:.3f}\".format(ridge.score(X_test_scaled, y_test)))\n",
    "best_ridge = np.mean(cross_val_score(ridge, X_train_scaled, y_train))"
   ]
  },
  {
   "cell_type": "markdown",
   "metadata": {
    "id": "fk0gohGH0G4v"
   },
   "source": [
    "### Gridsearch with LASSO Regression"
   ]
  },
  {
   "cell_type": "code",
   "execution_count": null,
   "metadata": {
    "colab": {
     "base_uri": "https://localhost:8080/"
    },
    "id": "BLFA_kRl0G4x",
    "outputId": "b2df4011-f802-4034-eff1-763d41771d92"
   },
   "outputs": [
    {
     "name": "stdout",
     "output_type": "stream",
     "text": [
      "LASSO REGRESSION (SCALED DATA)\n",
      "Best Parameter: {'alpha': 0.1}\n",
      "Best Cross-Validation Score: 0.785\n",
      "Test set Score: 0.805\n"
     ]
    }
   ],
   "source": [
    "lasso_param_grid = {'alpha': [0.00001, 0.0001, 0.001, 0.01, 0.1, 1, 10, 100, 1000]}\n",
    "lasso_grid = GridSearchCV(Lasso(), lasso_param_grid).fit(X_train_scaled, y_train)\n",
    "\n",
    "print(\"LASSO REGRESSION (SCALED DATA)\")\n",
    "print(\"Best Parameter: {}\".format(lasso_grid.best_params_))\n",
    "print(\"Best Cross-Validation Score: {:.3f}\".format(lasso_grid.best_score_))\n",
    "print(\"Test set Score: {:.3f}\".format(lasso_grid.score(X_test_scaled, y_test)))"
   ]
  },
  {
   "cell_type": "markdown",
   "metadata": {
    "id": "BExDCMuh0G47"
   },
   "source": [
    "**Note:** Best parameter for lasso regression is alpha = 0.1"
   ]
  },
  {
   "cell_type": "code",
   "execution_count": null,
   "metadata": {
    "colab": {
     "base_uri": "https://localhost:8080/"
    },
    "id": "Wrk_bUmS0G49",
    "outputId": "ed7bdfbd-dbe6-4210-fd9b-c979627cf359"
   },
   "outputs": [
    {
     "name": "stdout",
     "output_type": "stream",
     "text": [
      "LASSO test set score: 0.805\n"
     ]
    }
   ],
   "source": [
    "lasso = Lasso(alpha=0.1).fit(X_train_scaled, y_train)\n",
    "print(\"LASSO test set score: {:.3f}\".format(lasso.score(X_test_scaled, y_test)))\n",
    "best_lasso = np.mean(cross_val_score(lasso, X_train_scaled, y_train))"
   ]
  },
  {
   "cell_type": "markdown",
   "metadata": {
    "id": "wHK6x8AM0G5G"
   },
   "source": [
    "## Do the results improve?"
   ]
  },
  {
   "cell_type": "code",
   "execution_count": null,
   "metadata": {
    "colab": {
     "base_uri": "https://localhost:8080/"
    },
    "id": "KjhdDnlu0G5I",
    "outputId": "5f8efa13-7c7e-4887-e174-6f9670fabe46"
   },
   "outputs": [
    {
     "name": "stdout",
     "output_type": "stream",
     "text": [
      "KNN\n",
      "Before Gridsearch: 0.711\n",
      "After Gridsearch: 0.782\n",
      "\n",
      "RIDGE\n",
      "Before Gridsearch: 0.783\n",
      "After Gridsearch: 0.786\n",
      "\n",
      "LASSO\n",
      "Before Gridsearch: 0.784\n",
      "After Gridsearch: 0.785\n"
     ]
    }
   ],
   "source": [
    "print(\"KNN\")\n",
    "print(\"Before Gridsearch: {:.3f}\".format(knn_scaled))\n",
    "print(\"After Gridsearch: {:.3f}\".format(best_knn))\n",
    "print(\"\")\n",
    "print(\"RIDGE\")\n",
    "print(\"Before Gridsearch: {:.3f}\".format(ridge_scaled))\n",
    "print(\"After Gridsearch: {:.3f}\".format(best_ridge))\n",
    "print(\"\")\n",
    "print(\"LASSO\")\n",
    "print(\"Before Gridsearch: {:.3f}\".format(lasso_scaled))\n",
    "print(\"After Gridsearch: {:.3f}\".format(best_lasso))"
   ]
  },
  {
   "cell_type": "markdown",
   "metadata": {
    "id": "n8AYmXP80G5T"
   },
   "source": [
    "**Answer:** Yes. Tuning the parameters slightly improved each model, but KNN showed the only improvement that's really worthy of note."
   ]
  },
  {
   "cell_type": "markdown",
   "metadata": {
    "id": "EbvJf7yI0G5V"
   },
   "source": [
    "## 1.5 Compare the coefficients of your two best linear models (not knn), do they agree on which features are important?"
   ]
  },
  {
   "cell_type": "markdown",
   "metadata": {
    "id": "mNg8ck0L0G5a"
   },
   "source": [
    "**Note:** My two best linear models are Ridge (alpha=10) and LASSO (alpha = 0.1)."
   ]
  },
  {
   "cell_type": "code",
   "execution_count": null,
   "metadata": {
    "colab": {
     "base_uri": "https://localhost:8080/",
     "height": 363
    },
    "id": "KkwMc3S80G5e",
    "outputId": "ab5722cc-08d3-4181-e031-ecc38f679141"
   },
   "outputs": [
    {
     "data": {
      "text/html": [
       "<div>\n",
       "<style scoped>\n",
       "    .dataframe tbody tr th:only-of-type {\n",
       "        vertical-align: middle;\n",
       "    }\n",
       "\n",
       "    .dataframe tbody tr th {\n",
       "        vertical-align: top;\n",
       "    }\n",
       "\n",
       "    .dataframe thead th {\n",
       "        text-align: right;\n",
       "    }\n",
       "</style>\n",
       "<table border=\"1\" class=\"dataframe\">\n",
       "  <thead>\n",
       "    <tr style=\"text-align: right;\">\n",
       "      <th></th>\n",
       "      <th>LASSO</th>\n",
       "      <th>Ridge</th>\n",
       "    </tr>\n",
       "  </thead>\n",
       "  <tbody>\n",
       "    <tr>\n",
       "      <th>enrltot</th>\n",
       "      <td>-0.000000</td>\n",
       "      <td>-0.296762</td>\n",
       "    </tr>\n",
       "    <tr>\n",
       "      <th>teachers</th>\n",
       "      <td>-0.000000</td>\n",
       "      <td>-0.347868</td>\n",
       "    </tr>\n",
       "    <tr>\n",
       "      <th>calwpct</th>\n",
       "      <td>-1.015310</td>\n",
       "      <td>-1.647477</td>\n",
       "    </tr>\n",
       "    <tr>\n",
       "      <th>mealpct</th>\n",
       "      <td>-9.931920</td>\n",
       "      <td>-8.810726</td>\n",
       "    </tr>\n",
       "    <tr>\n",
       "      <th>computer</th>\n",
       "      <td>0.000000</td>\n",
       "      <td>0.755095</td>\n",
       "    </tr>\n",
       "    <tr>\n",
       "      <th>compstu</th>\n",
       "      <td>0.019521</td>\n",
       "      <td>-0.037605</td>\n",
       "    </tr>\n",
       "    <tr>\n",
       "      <th>expnstu</th>\n",
       "      <td>1.074776</td>\n",
       "      <td>1.117175</td>\n",
       "    </tr>\n",
       "    <tr>\n",
       "      <th>str</th>\n",
       "      <td>-0.580477</td>\n",
       "      <td>-0.634427</td>\n",
       "    </tr>\n",
       "    <tr>\n",
       "      <th>avginc</th>\n",
       "      <td>3.697999</td>\n",
       "      <td>3.911891</td>\n",
       "    </tr>\n",
       "    <tr>\n",
       "      <th>elpct</th>\n",
       "      <td>-3.349810</td>\n",
       "      <td>-3.806197</td>\n",
       "    </tr>\n",
       "  </tbody>\n",
       "</table>\n",
       "</div>"
      ],
      "text/plain": [
       "             LASSO     Ridge\n",
       "enrltot  -0.000000 -0.296762\n",
       "teachers -0.000000 -0.347868\n",
       "calwpct  -1.015310 -1.647477\n",
       "mealpct  -9.931920 -8.810726\n",
       "computer  0.000000  0.755095\n",
       "compstu   0.019521 -0.037605\n",
       "expnstu   1.074776  1.117175\n",
       "str      -0.580477 -0.634427\n",
       "avginc    3.697999  3.911891\n",
       "elpct    -3.349810 -3.806197"
      ]
     },
     "execution_count": 32,
     "metadata": {},
     "output_type": "execute_result"
    }
   ],
   "source": [
    "d = {'LASSO': lasso.coef_, 'Ridge': ridge.coef_} # Builds a dictionary with the coefficients from my LASSO & Ridge models\n",
    "coefficients = pd.DataFrame(data=d, index=X.columns) # Puts the dictionary into a dataframe along with variable names\n",
    "coefficients"
   ]
  },
  {
   "cell_type": "markdown",
   "metadata": {
    "id": "48RHTNkh0G5n"
   },
   "source": [
    "**Answer:** LASSO restricts (or shrinks) the less influential features to zero (see evidence in the code below). In this case, my LASSO has converted features with coefficients approximately between 0.5 and -0.5 to zero. Still, LASSO and Ridge agree on which features are important. For example, both models agree that **'mealpct'** and **'elpct'** has a negative relationship with 'testscr', while **'avginc'** have a positive relationship with 'testscr'."
   ]
  },
  {
   "cell_type": "code",
   "execution_count": null,
   "metadata": {
    "colab": {
     "base_uri": "https://localhost:8080/"
    },
    "id": "2SRcixER0G5o",
    "outputId": "c046cc80-85f3-4473-d933-7602eb226cad"
   },
   "outputs": [
    {
     "name": "stdout",
     "output_type": "stream",
     "text": [
      "Number of features used with LASSO: 7\n",
      "Number of features used with Ridge: 10\n"
     ]
    }
   ],
   "source": [
    "print(\"Number of features used with LASSO: {}\".format(np.sum(lasso.coef_ != 0)))\n",
    "print(\"Number of features used with Ridge: {}\".format(np.sum(ridge.coef_ != 0)))"
   ]
  },
  {
   "cell_type": "markdown",
   "metadata": {
    "id": "DuKR-2Wt0G5v"
   },
   "source": [
    "## 1.6 Discuss which final model you would choose to predict new data"
   ]
  },
  {
   "cell_type": "markdown",
   "metadata": {
    "id": "vclfvlAj0G5w"
   },
   "source": [
    "**Answer:** While each model has its advantages, I recommend RIDGE with alpha = 10.  It has a slightly higher cross validated accuracy than other models."
   ]
  },
  {
   "cell_type": "markdown",
   "metadata": {
    "id": "SRS2hD6M0G5y"
   },
   "source": [
    "# Part 2: Classification on red and white wine characteristics"
   ]
  },
  {
   "cell_type": "markdown",
   "metadata": {
    "id": "P_nZNfvh0G50"
   },
   "source": [
    "First, import the red and the white wine csv files into separate pandas dataframes from the following website:\n",
    "\n",
    "https://archive.ics.uci.edu/ml/machine-learning-databases/wine-quality/Links to an external site.\n",
    "\n",
    "(Note: you need to adjust the argument for read_csv() from sep=',' to sep=';')"
   ]
  },
  {
   "cell_type": "markdown",
   "metadata": {
    "id": "btpCE1phrz9q"
   },
   "source": [
    "## Prepare data"
   ]
  },
  {
   "cell_type": "code",
   "execution_count": null,
   "metadata": {
    "colab": {
     "base_uri": "https://localhost:8080/",
     "height": 206
    },
    "id": "fnd5BZe80G55",
    "outputId": "5923aabc-2fcc-4946-c716-983fa0e3e964"
   },
   "outputs": [
    {
     "data": {
      "text/html": [
       "<div>\n",
       "<style scoped>\n",
       "    .dataframe tbody tr th:only-of-type {\n",
       "        vertical-align: middle;\n",
       "    }\n",
       "\n",
       "    .dataframe tbody tr th {\n",
       "        vertical-align: top;\n",
       "    }\n",
       "\n",
       "    .dataframe thead th {\n",
       "        text-align: right;\n",
       "    }\n",
       "</style>\n",
       "<table border=\"1\" class=\"dataframe\">\n",
       "  <thead>\n",
       "    <tr style=\"text-align: right;\">\n",
       "      <th></th>\n",
       "      <th>fixed acidity</th>\n",
       "      <th>volatile acidity</th>\n",
       "      <th>citric acid</th>\n",
       "      <th>residual sugar</th>\n",
       "      <th>chlorides</th>\n",
       "      <th>free sulfur dioxide</th>\n",
       "      <th>total sulfur dioxide</th>\n",
       "      <th>density</th>\n",
       "      <th>pH</th>\n",
       "      <th>sulphates</th>\n",
       "      <th>alcohol</th>\n",
       "      <th>quality</th>\n",
       "    </tr>\n",
       "  </thead>\n",
       "  <tbody>\n",
       "    <tr>\n",
       "      <th>0</th>\n",
       "      <td>7.4</td>\n",
       "      <td>0.70</td>\n",
       "      <td>0.00</td>\n",
       "      <td>1.9</td>\n",
       "      <td>0.076</td>\n",
       "      <td>11.0</td>\n",
       "      <td>34.0</td>\n",
       "      <td>0.9978</td>\n",
       "      <td>3.51</td>\n",
       "      <td>0.56</td>\n",
       "      <td>9.4</td>\n",
       "      <td>5</td>\n",
       "    </tr>\n",
       "    <tr>\n",
       "      <th>1</th>\n",
       "      <td>7.8</td>\n",
       "      <td>0.88</td>\n",
       "      <td>0.00</td>\n",
       "      <td>2.6</td>\n",
       "      <td>0.098</td>\n",
       "      <td>25.0</td>\n",
       "      <td>67.0</td>\n",
       "      <td>0.9968</td>\n",
       "      <td>3.20</td>\n",
       "      <td>0.68</td>\n",
       "      <td>9.8</td>\n",
       "      <td>5</td>\n",
       "    </tr>\n",
       "    <tr>\n",
       "      <th>2</th>\n",
       "      <td>7.8</td>\n",
       "      <td>0.76</td>\n",
       "      <td>0.04</td>\n",
       "      <td>2.3</td>\n",
       "      <td>0.092</td>\n",
       "      <td>15.0</td>\n",
       "      <td>54.0</td>\n",
       "      <td>0.9970</td>\n",
       "      <td>3.26</td>\n",
       "      <td>0.65</td>\n",
       "      <td>9.8</td>\n",
       "      <td>5</td>\n",
       "    </tr>\n",
       "    <tr>\n",
       "      <th>3</th>\n",
       "      <td>11.2</td>\n",
       "      <td>0.28</td>\n",
       "      <td>0.56</td>\n",
       "      <td>1.9</td>\n",
       "      <td>0.075</td>\n",
       "      <td>17.0</td>\n",
       "      <td>60.0</td>\n",
       "      <td>0.9980</td>\n",
       "      <td>3.16</td>\n",
       "      <td>0.58</td>\n",
       "      <td>9.8</td>\n",
       "      <td>6</td>\n",
       "    </tr>\n",
       "    <tr>\n",
       "      <th>4</th>\n",
       "      <td>7.4</td>\n",
       "      <td>0.70</td>\n",
       "      <td>0.00</td>\n",
       "      <td>1.9</td>\n",
       "      <td>0.076</td>\n",
       "      <td>11.0</td>\n",
       "      <td>34.0</td>\n",
       "      <td>0.9978</td>\n",
       "      <td>3.51</td>\n",
       "      <td>0.56</td>\n",
       "      <td>9.4</td>\n",
       "      <td>5</td>\n",
       "    </tr>\n",
       "  </tbody>\n",
       "</table>\n",
       "</div>"
      ],
      "text/plain": [
       "   fixed acidity  volatile acidity  citric acid  ...  sulphates  alcohol  quality\n",
       "0            7.4              0.70         0.00  ...       0.56      9.4        5\n",
       "1            7.8              0.88         0.00  ...       0.68      9.8        5\n",
       "2            7.8              0.76         0.04  ...       0.65      9.8        5\n",
       "3           11.2              0.28         0.56  ...       0.58      9.8        6\n",
       "4            7.4              0.70         0.00  ...       0.56      9.4        5\n",
       "\n",
       "[5 rows x 12 columns]"
      ]
     },
     "execution_count": 34,
     "metadata": {},
     "output_type": "execute_result"
    }
   ],
   "source": [
    "import pandas as pd\n",
    "\n",
    "r = pd.read_csv(\"https://archive.ics.uci.edu/ml/machine-learning-databases/wine-quality/winequality-red.csv\", sep = ';')\n",
    "r.head()"
   ]
  },
  {
   "cell_type": "code",
   "execution_count": null,
   "metadata": {
    "colab": {
     "base_uri": "https://localhost:8080/",
     "height": 206
    },
    "id": "HMfx-dIV0G6W",
    "outputId": "0b2153a6-4ec0-4421-d73b-819becaf26c5"
   },
   "outputs": [
    {
     "data": {
      "text/html": [
       "<div>\n",
       "<style scoped>\n",
       "    .dataframe tbody tr th:only-of-type {\n",
       "        vertical-align: middle;\n",
       "    }\n",
       "\n",
       "    .dataframe tbody tr th {\n",
       "        vertical-align: top;\n",
       "    }\n",
       "\n",
       "    .dataframe thead th {\n",
       "        text-align: right;\n",
       "    }\n",
       "</style>\n",
       "<table border=\"1\" class=\"dataframe\">\n",
       "  <thead>\n",
       "    <tr style=\"text-align: right;\">\n",
       "      <th></th>\n",
       "      <th>fixed acidity</th>\n",
       "      <th>volatile acidity</th>\n",
       "      <th>citric acid</th>\n",
       "      <th>residual sugar</th>\n",
       "      <th>chlorides</th>\n",
       "      <th>free sulfur dioxide</th>\n",
       "      <th>total sulfur dioxide</th>\n",
       "      <th>density</th>\n",
       "      <th>pH</th>\n",
       "      <th>sulphates</th>\n",
       "      <th>alcohol</th>\n",
       "      <th>quality</th>\n",
       "    </tr>\n",
       "  </thead>\n",
       "  <tbody>\n",
       "    <tr>\n",
       "      <th>0</th>\n",
       "      <td>7.0</td>\n",
       "      <td>0.27</td>\n",
       "      <td>0.36</td>\n",
       "      <td>20.7</td>\n",
       "      <td>0.045</td>\n",
       "      <td>45.0</td>\n",
       "      <td>170.0</td>\n",
       "      <td>1.0010</td>\n",
       "      <td>3.00</td>\n",
       "      <td>0.45</td>\n",
       "      <td>8.8</td>\n",
       "      <td>6</td>\n",
       "    </tr>\n",
       "    <tr>\n",
       "      <th>1</th>\n",
       "      <td>6.3</td>\n",
       "      <td>0.30</td>\n",
       "      <td>0.34</td>\n",
       "      <td>1.6</td>\n",
       "      <td>0.049</td>\n",
       "      <td>14.0</td>\n",
       "      <td>132.0</td>\n",
       "      <td>0.9940</td>\n",
       "      <td>3.30</td>\n",
       "      <td>0.49</td>\n",
       "      <td>9.5</td>\n",
       "      <td>6</td>\n",
       "    </tr>\n",
       "    <tr>\n",
       "      <th>2</th>\n",
       "      <td>8.1</td>\n",
       "      <td>0.28</td>\n",
       "      <td>0.40</td>\n",
       "      <td>6.9</td>\n",
       "      <td>0.050</td>\n",
       "      <td>30.0</td>\n",
       "      <td>97.0</td>\n",
       "      <td>0.9951</td>\n",
       "      <td>3.26</td>\n",
       "      <td>0.44</td>\n",
       "      <td>10.1</td>\n",
       "      <td>6</td>\n",
       "    </tr>\n",
       "    <tr>\n",
       "      <th>3</th>\n",
       "      <td>7.2</td>\n",
       "      <td>0.23</td>\n",
       "      <td>0.32</td>\n",
       "      <td>8.5</td>\n",
       "      <td>0.058</td>\n",
       "      <td>47.0</td>\n",
       "      <td>186.0</td>\n",
       "      <td>0.9956</td>\n",
       "      <td>3.19</td>\n",
       "      <td>0.40</td>\n",
       "      <td>9.9</td>\n",
       "      <td>6</td>\n",
       "    </tr>\n",
       "    <tr>\n",
       "      <th>4</th>\n",
       "      <td>7.2</td>\n",
       "      <td>0.23</td>\n",
       "      <td>0.32</td>\n",
       "      <td>8.5</td>\n",
       "      <td>0.058</td>\n",
       "      <td>47.0</td>\n",
       "      <td>186.0</td>\n",
       "      <td>0.9956</td>\n",
       "      <td>3.19</td>\n",
       "      <td>0.40</td>\n",
       "      <td>9.9</td>\n",
       "      <td>6</td>\n",
       "    </tr>\n",
       "  </tbody>\n",
       "</table>\n",
       "</div>"
      ],
      "text/plain": [
       "   fixed acidity  volatile acidity  citric acid  ...  sulphates  alcohol  quality\n",
       "0            7.0              0.27         0.36  ...       0.45      8.8        6\n",
       "1            6.3              0.30         0.34  ...       0.49      9.5        6\n",
       "2            8.1              0.28         0.40  ...       0.44     10.1        6\n",
       "3            7.2              0.23         0.32  ...       0.40      9.9        6\n",
       "4            7.2              0.23         0.32  ...       0.40      9.9        6\n",
       "\n",
       "[5 rows x 12 columns]"
      ]
     },
     "execution_count": 35,
     "metadata": {},
     "output_type": "execute_result"
    }
   ],
   "source": [
    "w = pd.read_csv(\"https://archive.ics.uci.edu/ml/machine-learning-databases/wine-quality/winequality-white.csv\", sep = ';')\n",
    "w.head()"
   ]
  },
  {
   "cell_type": "markdown",
   "metadata": {
    "id": "RQmmXvCm0G6e"
   },
   "source": [
    "Add a new column to each data frame called \"winetype\".  For the white wine dataset label the values in this column with a 0, indicating white wine.  For the red wine dataset, label values with a 1, indicating red wine."
   ]
  },
  {
   "cell_type": "code",
   "execution_count": null,
   "metadata": {
    "colab": {
     "base_uri": "https://localhost:8080/",
     "height": 223
    },
    "id": "mkk3WNcY0G6g",
    "outputId": "96656010-38f7-4e9b-e644-33cbb78bb875"
   },
   "outputs": [
    {
     "data": {
      "text/html": [
       "<div>\n",
       "<style scoped>\n",
       "    .dataframe tbody tr th:only-of-type {\n",
       "        vertical-align: middle;\n",
       "    }\n",
       "\n",
       "    .dataframe tbody tr th {\n",
       "        vertical-align: top;\n",
       "    }\n",
       "\n",
       "    .dataframe thead th {\n",
       "        text-align: right;\n",
       "    }\n",
       "</style>\n",
       "<table border=\"1\" class=\"dataframe\">\n",
       "  <thead>\n",
       "    <tr style=\"text-align: right;\">\n",
       "      <th></th>\n",
       "      <th>fixed acidity</th>\n",
       "      <th>volatile acidity</th>\n",
       "      <th>citric acid</th>\n",
       "      <th>residual sugar</th>\n",
       "      <th>chlorides</th>\n",
       "      <th>free sulfur dioxide</th>\n",
       "      <th>total sulfur dioxide</th>\n",
       "      <th>density</th>\n",
       "      <th>pH</th>\n",
       "      <th>sulphates</th>\n",
       "      <th>alcohol</th>\n",
       "      <th>quality</th>\n",
       "      <th>winetype</th>\n",
       "    </tr>\n",
       "  </thead>\n",
       "  <tbody>\n",
       "    <tr>\n",
       "      <th>0</th>\n",
       "      <td>7.4</td>\n",
       "      <td>0.70</td>\n",
       "      <td>0.00</td>\n",
       "      <td>1.9</td>\n",
       "      <td>0.076</td>\n",
       "      <td>11.0</td>\n",
       "      <td>34.0</td>\n",
       "      <td>0.9978</td>\n",
       "      <td>3.51</td>\n",
       "      <td>0.56</td>\n",
       "      <td>9.4</td>\n",
       "      <td>5</td>\n",
       "      <td>1</td>\n",
       "    </tr>\n",
       "    <tr>\n",
       "      <th>1</th>\n",
       "      <td>7.8</td>\n",
       "      <td>0.88</td>\n",
       "      <td>0.00</td>\n",
       "      <td>2.6</td>\n",
       "      <td>0.098</td>\n",
       "      <td>25.0</td>\n",
       "      <td>67.0</td>\n",
       "      <td>0.9968</td>\n",
       "      <td>3.20</td>\n",
       "      <td>0.68</td>\n",
       "      <td>9.8</td>\n",
       "      <td>5</td>\n",
       "      <td>1</td>\n",
       "    </tr>\n",
       "    <tr>\n",
       "      <th>2</th>\n",
       "      <td>7.8</td>\n",
       "      <td>0.76</td>\n",
       "      <td>0.04</td>\n",
       "      <td>2.3</td>\n",
       "      <td>0.092</td>\n",
       "      <td>15.0</td>\n",
       "      <td>54.0</td>\n",
       "      <td>0.9970</td>\n",
       "      <td>3.26</td>\n",
       "      <td>0.65</td>\n",
       "      <td>9.8</td>\n",
       "      <td>5</td>\n",
       "      <td>1</td>\n",
       "    </tr>\n",
       "    <tr>\n",
       "      <th>3</th>\n",
       "      <td>11.2</td>\n",
       "      <td>0.28</td>\n",
       "      <td>0.56</td>\n",
       "      <td>1.9</td>\n",
       "      <td>0.075</td>\n",
       "      <td>17.0</td>\n",
       "      <td>60.0</td>\n",
       "      <td>0.9980</td>\n",
       "      <td>3.16</td>\n",
       "      <td>0.58</td>\n",
       "      <td>9.8</td>\n",
       "      <td>6</td>\n",
       "      <td>1</td>\n",
       "    </tr>\n",
       "    <tr>\n",
       "      <th>4</th>\n",
       "      <td>7.4</td>\n",
       "      <td>0.70</td>\n",
       "      <td>0.00</td>\n",
       "      <td>1.9</td>\n",
       "      <td>0.076</td>\n",
       "      <td>11.0</td>\n",
       "      <td>34.0</td>\n",
       "      <td>0.9978</td>\n",
       "      <td>3.51</td>\n",
       "      <td>0.56</td>\n",
       "      <td>9.4</td>\n",
       "      <td>5</td>\n",
       "      <td>1</td>\n",
       "    </tr>\n",
       "  </tbody>\n",
       "</table>\n",
       "</div>"
      ],
      "text/plain": [
       "   fixed acidity  volatile acidity  citric acid  ...  alcohol  quality  winetype\n",
       "0            7.4              0.70         0.00  ...      9.4        5         1\n",
       "1            7.8              0.88         0.00  ...      9.8        5         1\n",
       "2            7.8              0.76         0.04  ...      9.8        5         1\n",
       "3           11.2              0.28         0.56  ...      9.8        6         1\n",
       "4            7.4              0.70         0.00  ...      9.4        5         1\n",
       "\n",
       "[5 rows x 13 columns]"
      ]
     },
     "execution_count": 36,
     "metadata": {},
     "output_type": "execute_result"
    }
   ],
   "source": [
    "red = r.assign(winetype=1)\n",
    "red.head()"
   ]
  },
  {
   "cell_type": "code",
   "execution_count": null,
   "metadata": {
    "colab": {
     "base_uri": "https://localhost:8080/",
     "height": 223
    },
    "id": "q5XkPcJ00G6p",
    "outputId": "3f437e22-a218-46d7-ce40-4a321738b73c"
   },
   "outputs": [
    {
     "data": {
      "text/html": [
       "<div>\n",
       "<style scoped>\n",
       "    .dataframe tbody tr th:only-of-type {\n",
       "        vertical-align: middle;\n",
       "    }\n",
       "\n",
       "    .dataframe tbody tr th {\n",
       "        vertical-align: top;\n",
       "    }\n",
       "\n",
       "    .dataframe thead th {\n",
       "        text-align: right;\n",
       "    }\n",
       "</style>\n",
       "<table border=\"1\" class=\"dataframe\">\n",
       "  <thead>\n",
       "    <tr style=\"text-align: right;\">\n",
       "      <th></th>\n",
       "      <th>fixed acidity</th>\n",
       "      <th>volatile acidity</th>\n",
       "      <th>citric acid</th>\n",
       "      <th>residual sugar</th>\n",
       "      <th>chlorides</th>\n",
       "      <th>free sulfur dioxide</th>\n",
       "      <th>total sulfur dioxide</th>\n",
       "      <th>density</th>\n",
       "      <th>pH</th>\n",
       "      <th>sulphates</th>\n",
       "      <th>alcohol</th>\n",
       "      <th>quality</th>\n",
       "      <th>winetype</th>\n",
       "    </tr>\n",
       "  </thead>\n",
       "  <tbody>\n",
       "    <tr>\n",
       "      <th>0</th>\n",
       "      <td>7.0</td>\n",
       "      <td>0.27</td>\n",
       "      <td>0.36</td>\n",
       "      <td>20.7</td>\n",
       "      <td>0.045</td>\n",
       "      <td>45.0</td>\n",
       "      <td>170.0</td>\n",
       "      <td>1.0010</td>\n",
       "      <td>3.00</td>\n",
       "      <td>0.45</td>\n",
       "      <td>8.8</td>\n",
       "      <td>6</td>\n",
       "      <td>0</td>\n",
       "    </tr>\n",
       "    <tr>\n",
       "      <th>1</th>\n",
       "      <td>6.3</td>\n",
       "      <td>0.30</td>\n",
       "      <td>0.34</td>\n",
       "      <td>1.6</td>\n",
       "      <td>0.049</td>\n",
       "      <td>14.0</td>\n",
       "      <td>132.0</td>\n",
       "      <td>0.9940</td>\n",
       "      <td>3.30</td>\n",
       "      <td>0.49</td>\n",
       "      <td>9.5</td>\n",
       "      <td>6</td>\n",
       "      <td>0</td>\n",
       "    </tr>\n",
       "    <tr>\n",
       "      <th>2</th>\n",
       "      <td>8.1</td>\n",
       "      <td>0.28</td>\n",
       "      <td>0.40</td>\n",
       "      <td>6.9</td>\n",
       "      <td>0.050</td>\n",
       "      <td>30.0</td>\n",
       "      <td>97.0</td>\n",
       "      <td>0.9951</td>\n",
       "      <td>3.26</td>\n",
       "      <td>0.44</td>\n",
       "      <td>10.1</td>\n",
       "      <td>6</td>\n",
       "      <td>0</td>\n",
       "    </tr>\n",
       "    <tr>\n",
       "      <th>3</th>\n",
       "      <td>7.2</td>\n",
       "      <td>0.23</td>\n",
       "      <td>0.32</td>\n",
       "      <td>8.5</td>\n",
       "      <td>0.058</td>\n",
       "      <td>47.0</td>\n",
       "      <td>186.0</td>\n",
       "      <td>0.9956</td>\n",
       "      <td>3.19</td>\n",
       "      <td>0.40</td>\n",
       "      <td>9.9</td>\n",
       "      <td>6</td>\n",
       "      <td>0</td>\n",
       "    </tr>\n",
       "    <tr>\n",
       "      <th>4</th>\n",
       "      <td>7.2</td>\n",
       "      <td>0.23</td>\n",
       "      <td>0.32</td>\n",
       "      <td>8.5</td>\n",
       "      <td>0.058</td>\n",
       "      <td>47.0</td>\n",
       "      <td>186.0</td>\n",
       "      <td>0.9956</td>\n",
       "      <td>3.19</td>\n",
       "      <td>0.40</td>\n",
       "      <td>9.9</td>\n",
       "      <td>6</td>\n",
       "      <td>0</td>\n",
       "    </tr>\n",
       "  </tbody>\n",
       "</table>\n",
       "</div>"
      ],
      "text/plain": [
       "   fixed acidity  volatile acidity  citric acid  ...  alcohol  quality  winetype\n",
       "0            7.0              0.27         0.36  ...      8.8        6         0\n",
       "1            6.3              0.30         0.34  ...      9.5        6         0\n",
       "2            8.1              0.28         0.40  ...     10.1        6         0\n",
       "3            7.2              0.23         0.32  ...      9.9        6         0\n",
       "4            7.2              0.23         0.32  ...      9.9        6         0\n",
       "\n",
       "[5 rows x 13 columns]"
      ]
     },
     "execution_count": 37,
     "metadata": {},
     "output_type": "execute_result"
    }
   ],
   "source": [
    "white = w.assign(winetype=0)\n",
    "white.head()"
   ]
  },
  {
   "cell_type": "markdown",
   "metadata": {
    "id": "Bso43QtC0G6w"
   },
   "source": [
    "Combine both datasets into a single dataframe.\n",
    "The target data (i.e. the dependent variable) is \"winetype\"."
   ]
  },
  {
   "cell_type": "code",
   "execution_count": null,
   "metadata": {
    "colab": {
     "base_uri": "https://localhost:8080/",
     "height": 223
    },
    "id": "mlwd1zTO0G6x",
    "outputId": "1f905782-0b78-4293-ad21-42a4a141c8c0"
   },
   "outputs": [
    {
     "data": {
      "text/html": [
       "<div>\n",
       "<style scoped>\n",
       "    .dataframe tbody tr th:only-of-type {\n",
       "        vertical-align: middle;\n",
       "    }\n",
       "\n",
       "    .dataframe tbody tr th {\n",
       "        vertical-align: top;\n",
       "    }\n",
       "\n",
       "    .dataframe thead th {\n",
       "        text-align: right;\n",
       "    }\n",
       "</style>\n",
       "<table border=\"1\" class=\"dataframe\">\n",
       "  <thead>\n",
       "    <tr style=\"text-align: right;\">\n",
       "      <th></th>\n",
       "      <th>fixed acidity</th>\n",
       "      <th>volatile acidity</th>\n",
       "      <th>citric acid</th>\n",
       "      <th>residual sugar</th>\n",
       "      <th>chlorides</th>\n",
       "      <th>free sulfur dioxide</th>\n",
       "      <th>total sulfur dioxide</th>\n",
       "      <th>density</th>\n",
       "      <th>pH</th>\n",
       "      <th>sulphates</th>\n",
       "      <th>alcohol</th>\n",
       "      <th>quality</th>\n",
       "      <th>winetype</th>\n",
       "    </tr>\n",
       "  </thead>\n",
       "  <tbody>\n",
       "    <tr>\n",
       "      <th>0</th>\n",
       "      <td>7.0</td>\n",
       "      <td>0.27</td>\n",
       "      <td>0.36</td>\n",
       "      <td>20.7</td>\n",
       "      <td>0.045</td>\n",
       "      <td>45.0</td>\n",
       "      <td>170.0</td>\n",
       "      <td>1.0010</td>\n",
       "      <td>3.00</td>\n",
       "      <td>0.45</td>\n",
       "      <td>8.8</td>\n",
       "      <td>6</td>\n",
       "      <td>0</td>\n",
       "    </tr>\n",
       "    <tr>\n",
       "      <th>1</th>\n",
       "      <td>6.3</td>\n",
       "      <td>0.30</td>\n",
       "      <td>0.34</td>\n",
       "      <td>1.6</td>\n",
       "      <td>0.049</td>\n",
       "      <td>14.0</td>\n",
       "      <td>132.0</td>\n",
       "      <td>0.9940</td>\n",
       "      <td>3.30</td>\n",
       "      <td>0.49</td>\n",
       "      <td>9.5</td>\n",
       "      <td>6</td>\n",
       "      <td>0</td>\n",
       "    </tr>\n",
       "    <tr>\n",
       "      <th>2</th>\n",
       "      <td>8.1</td>\n",
       "      <td>0.28</td>\n",
       "      <td>0.40</td>\n",
       "      <td>6.9</td>\n",
       "      <td>0.050</td>\n",
       "      <td>30.0</td>\n",
       "      <td>97.0</td>\n",
       "      <td>0.9951</td>\n",
       "      <td>3.26</td>\n",
       "      <td>0.44</td>\n",
       "      <td>10.1</td>\n",
       "      <td>6</td>\n",
       "      <td>0</td>\n",
       "    </tr>\n",
       "    <tr>\n",
       "      <th>3</th>\n",
       "      <td>7.2</td>\n",
       "      <td>0.23</td>\n",
       "      <td>0.32</td>\n",
       "      <td>8.5</td>\n",
       "      <td>0.058</td>\n",
       "      <td>47.0</td>\n",
       "      <td>186.0</td>\n",
       "      <td>0.9956</td>\n",
       "      <td>3.19</td>\n",
       "      <td>0.40</td>\n",
       "      <td>9.9</td>\n",
       "      <td>6</td>\n",
       "      <td>0</td>\n",
       "    </tr>\n",
       "    <tr>\n",
       "      <th>4</th>\n",
       "      <td>7.2</td>\n",
       "      <td>0.23</td>\n",
       "      <td>0.32</td>\n",
       "      <td>8.5</td>\n",
       "      <td>0.058</td>\n",
       "      <td>47.0</td>\n",
       "      <td>186.0</td>\n",
       "      <td>0.9956</td>\n",
       "      <td>3.19</td>\n",
       "      <td>0.40</td>\n",
       "      <td>9.9</td>\n",
       "      <td>6</td>\n",
       "      <td>0</td>\n",
       "    </tr>\n",
       "  </tbody>\n",
       "</table>\n",
       "</div>"
      ],
      "text/plain": [
       "   fixed acidity  volatile acidity  citric acid  ...  alcohol  quality  winetype\n",
       "0            7.0              0.27         0.36  ...      8.8        6         0\n",
       "1            6.3              0.30         0.34  ...      9.5        6         0\n",
       "2            8.1              0.28         0.40  ...     10.1        6         0\n",
       "3            7.2              0.23         0.32  ...      9.9        6         0\n",
       "4            7.2              0.23         0.32  ...      9.9        6         0\n",
       "\n",
       "[5 rows x 13 columns]"
      ]
     },
     "execution_count": 38,
     "metadata": {},
     "output_type": "execute_result"
    }
   ],
   "source": [
    "mix = [white, red]\n",
    "wines = pd.concat(mix)\n",
    "wines.head()"
   ]
  },
  {
   "cell_type": "markdown",
   "metadata": {
    "id": "5PmNMrhB0G66"
   },
   "source": [
    "## 2.1 Visualize the univariate distribution of the target feature and each of the three explanatory variables that you think are likely to have a relationship with the target feature.   "
   ]
  },
  {
   "cell_type": "code",
   "execution_count": null,
   "metadata": {
    "colab": {
     "base_uri": "https://localhost:8080/",
     "height": 297
    },
    "id": "us72_zvy0G68",
    "outputId": "a6969373-f02d-4d1b-ddb7-12807939bd48"
   },
   "outputs": [
    {
     "data": {
      "text/plain": [
       "<matplotlib.axes._subplots.AxesSubplot at 0x7fdb7078bbd0>"
      ]
     },
     "execution_count": 39,
     "metadata": {},
     "output_type": "execute_result"
    },
    {
     "data": {
      "image/png": "[encoded data removed]",
      "text/plain": [
       "<Figure size 432x288 with 1 Axes>"
      ]
     },
     "metadata": {
      "needs_background": "light"
     },
     "output_type": "display_data"
    }
   ],
   "source": [
    "import matplotlib.pyplot as plt\n",
    "import seaborn as sns\n",
    "\n",
    "sns.boxplot(x='winetype', y='fixed acidity', data=wines)"
   ]
  },
  {
   "cell_type": "code",
   "execution_count": null,
   "metadata": {
    "colab": {
     "base_uri": "https://localhost:8080/",
     "height": 297
    },
    "id": "gdWFFkOT0G7C",
    "outputId": "5d9d2b10-1566-4e14-b296-de2a039bb748"
   },
   "outputs": [
    {
     "data": {
      "text/plain": [
       "<matplotlib.axes._subplots.AxesSubplot at 0x7fdb632e93d0>"
      ]
     },
     "execution_count": 40,
     "metadata": {},
     "output_type": "execute_result"
    },
    {
     "data": {
      "image/png": "[encoded data removed]",
      "text/plain": [
       "<Figure size 432x288 with 1 Axes>"
      ]
     },
     "metadata": {
      "needs_background": "light"
     },
     "output_type": "display_data"
    }
   ],
   "source": [
    "sns.boxplot(x='winetype', y='citric acid', data=wines)"
   ]
  },
  {
   "cell_type": "code",
   "execution_count": null,
   "metadata": {
    "colab": {
     "base_uri": "https://localhost:8080/",
     "height": 297
    },
    "id": "05BmAdK-0G7U",
    "outputId": "d7ab6af6-07c2-4f2d-cccf-08d26766d7b7"
   },
   "outputs": [
    {
     "data": {
      "text/plain": [
       "<matplotlib.axes._subplots.AxesSubplot at 0x7fdb63269390>"
      ]
     },
     "execution_count": 41,
     "metadata": {},
     "output_type": "execute_result"
    },
    {
     "data": {
      "image/png": "[encoded data removed]",
      "text/plain": [
       "<Figure size 432x288 with 1 Axes>"
      ]
     },
     "metadata": {
      "needs_background": "light"
     },
     "output_type": "display_data"
    }
   ],
   "source": [
    "sns.boxplot(x='winetype', y='total sulfur dioxide', data=wines)"
   ]
  },
  {
   "cell_type": "markdown",
   "metadata": {
    "id": "kMDXcdWu0G7b"
   },
   "source": [
    "## 2.2a Split data into training and test set."
   ]
  },
  {
   "cell_type": "code",
   "execution_count": null,
   "metadata": {
    "colab": {
     "base_uri": "https://localhost:8080/",
     "height": 206
    },
    "id": "Qpo-tzlC0G7e",
    "outputId": "7514a530-de2c-47d9-90b2-6d36e8b658b8"
   },
   "outputs": [
    {
     "data": {
      "text/html": [
       "<div>\n",
       "<style scoped>\n",
       "    .dataframe tbody tr th:only-of-type {\n",
       "        vertical-align: middle;\n",
       "    }\n",
       "\n",
       "    .dataframe tbody tr th {\n",
       "        vertical-align: top;\n",
       "    }\n",
       "\n",
       "    .dataframe thead th {\n",
       "        text-align: right;\n",
       "    }\n",
       "</style>\n",
       "<table border=\"1\" class=\"dataframe\">\n",
       "  <thead>\n",
       "    <tr style=\"text-align: right;\">\n",
       "      <th></th>\n",
       "      <th>fixed acidity</th>\n",
       "      <th>volatile acidity</th>\n",
       "      <th>citric acid</th>\n",
       "      <th>residual sugar</th>\n",
       "      <th>chlorides</th>\n",
       "      <th>free sulfur dioxide</th>\n",
       "      <th>total sulfur dioxide</th>\n",
       "      <th>density</th>\n",
       "      <th>pH</th>\n",
       "      <th>sulphates</th>\n",
       "      <th>alcohol</th>\n",
       "      <th>quality</th>\n",
       "    </tr>\n",
       "  </thead>\n",
       "  <tbody>\n",
       "    <tr>\n",
       "      <th>0</th>\n",
       "      <td>7.0</td>\n",
       "      <td>0.27</td>\n",
       "      <td>0.36</td>\n",
       "      <td>20.7</td>\n",
       "      <td>0.045</td>\n",
       "      <td>45.0</td>\n",
       "      <td>170.0</td>\n",
       "      <td>1.0010</td>\n",
       "      <td>3.00</td>\n",
       "      <td>0.45</td>\n",
       "      <td>8.8</td>\n",
       "      <td>6</td>\n",
       "    </tr>\n",
       "    <tr>\n",
       "      <th>1</th>\n",
       "      <td>6.3</td>\n",
       "      <td>0.30</td>\n",
       "      <td>0.34</td>\n",
       "      <td>1.6</td>\n",
       "      <td>0.049</td>\n",
       "      <td>14.0</td>\n",
       "      <td>132.0</td>\n",
       "      <td>0.9940</td>\n",
       "      <td>3.30</td>\n",
       "      <td>0.49</td>\n",
       "      <td>9.5</td>\n",
       "      <td>6</td>\n",
       "    </tr>\n",
       "    <tr>\n",
       "      <th>2</th>\n",
       "      <td>8.1</td>\n",
       "      <td>0.28</td>\n",
       "      <td>0.40</td>\n",
       "      <td>6.9</td>\n",
       "      <td>0.050</td>\n",
       "      <td>30.0</td>\n",
       "      <td>97.0</td>\n",
       "      <td>0.9951</td>\n",
       "      <td>3.26</td>\n",
       "      <td>0.44</td>\n",
       "      <td>10.1</td>\n",
       "      <td>6</td>\n",
       "    </tr>\n",
       "    <tr>\n",
       "      <th>3</th>\n",
       "      <td>7.2</td>\n",
       "      <td>0.23</td>\n",
       "      <td>0.32</td>\n",
       "      <td>8.5</td>\n",
       "      <td>0.058</td>\n",
       "      <td>47.0</td>\n",
       "      <td>186.0</td>\n",
       "      <td>0.9956</td>\n",
       "      <td>3.19</td>\n",
       "      <td>0.40</td>\n",
       "      <td>9.9</td>\n",
       "      <td>6</td>\n",
       "    </tr>\n",
       "    <tr>\n",
       "      <th>4</th>\n",
       "      <td>7.2</td>\n",
       "      <td>0.23</td>\n",
       "      <td>0.32</td>\n",
       "      <td>8.5</td>\n",
       "      <td>0.058</td>\n",
       "      <td>47.0</td>\n",
       "      <td>186.0</td>\n",
       "      <td>0.9956</td>\n",
       "      <td>3.19</td>\n",
       "      <td>0.40</td>\n",
       "      <td>9.9</td>\n",
       "      <td>6</td>\n",
       "    </tr>\n",
       "  </tbody>\n",
       "</table>\n",
       "</div>"
      ],
      "text/plain": [
       "   fixed acidity  volatile acidity  citric acid  ...  sulphates  alcohol  quality\n",
       "0            7.0              0.27         0.36  ...       0.45      8.8        6\n",
       "1            6.3              0.30         0.34  ...       0.49      9.5        6\n",
       "2            8.1              0.28         0.40  ...       0.44     10.1        6\n",
       "3            7.2              0.23         0.32  ...       0.40      9.9        6\n",
       "4            7.2              0.23         0.32  ...       0.40      9.9        6\n",
       "\n",
       "[5 rows x 12 columns]"
      ]
     },
     "execution_count": 42,
     "metadata": {},
     "output_type": "execute_result"
    }
   ],
   "source": [
    "from sklearn.model_selection import train_test_split\n",
    "\n",
    "y = wines['winetype']\n",
    "X = wines.loc[:, wines.columns != 'winetype']\n",
    "\n",
    "X_train, X_test, y_train, y_test = train_test_split(X, y, random_state=42) \n",
    "\n",
    "X.head()"
   ]
  },
  {
   "cell_type": "markdown",
   "metadata": {
    "id": "eo-SV6Ln0G7i"
   },
   "source": [
    "## 2.2b Build models that evaluate the relationship between all available X variables in the dataset and the target variable. Evaluate Logistic Regression, Penalized Logistic Regression, and KNN for classification using cross-validation. "
   ]
  },
  {
   "cell_type": "markdown",
   "metadata": {
    "id": "Mx2FNDnC0G7j"
   },
   "source": [
    "### Logistic Regression using cross-validation"
   ]
  },
  {
   "cell_type": "code",
   "execution_count": null,
   "metadata": {
    "colab": {
     "base_uri": "https://localhost:8080/",
     "height": 185
    },
    "id": "_3P6Y1_80G7l",
    "outputId": "64c2d211-3c75-4b6f-b445-d7517447fc93"
   },
   "outputs": [
    {
     "name": "stdout",
     "output_type": "stream",
     "text": [
      "LOGISTIC REGRESSION (UNSCALED DATA)\n",
      "Training set score: 0.980\n",
      "Test set score: 0.977\n",
      "Mean Cross Validation, KFold: 0.983\n"
     ]
    },
    {
     "data": {
      "text/html": [
       "<div>\n",
       "<style scoped>\n",
       "    .dataframe tbody tr th:only-of-type {\n",
       "        vertical-align: middle;\n",
       "    }\n",
       "\n",
       "    .dataframe tbody tr th {\n",
       "        vertical-align: top;\n",
       "    }\n",
       "\n",
       "    .dataframe thead th {\n",
       "        text-align: right;\n",
       "    }\n",
       "</style>\n",
       "<table border=\"1\" class=\"dataframe\">\n",
       "  <thead>\n",
       "    <tr style=\"text-align: right;\">\n",
       "      <th></th>\n",
       "      <th>fixed acidity</th>\n",
       "      <th>volatile acidity</th>\n",
       "      <th>citric acid</th>\n",
       "      <th>residual sugar</th>\n",
       "      <th>chlorides</th>\n",
       "      <th>free sulfur dioxide</th>\n",
       "      <th>total sulfur dioxide</th>\n",
       "      <th>density</th>\n",
       "      <th>pH</th>\n",
       "      <th>sulphates</th>\n",
       "      <th>alcohol</th>\n",
       "      <th>quality</th>\n",
       "    </tr>\n",
       "  </thead>\n",
       "  <tbody>\n",
       "    <tr>\n",
       "      <th>Logistic Regression Coefficients</th>\n",
       "      <td>0.781301</td>\n",
       "      <td>13.38651</td>\n",
       "      <td>-2.873397</td>\n",
       "      <td>-0.169794</td>\n",
       "      <td>2.032668</td>\n",
       "      <td>0.073992</td>\n",
       "      <td>-0.078192</td>\n",
       "      <td>-2.528973</td>\n",
       "      <td>1.174202</td>\n",
       "      <td>10.639989</td>\n",
       "      <td>-0.92592</td>\n",
       "      <td>-0.030997</td>\n",
       "    </tr>\n",
       "  </tbody>\n",
       "</table>\n",
       "</div>"
      ],
      "text/plain": [
       "                                  fixed acidity  ...   quality\n",
       "Logistic Regression Coefficients       0.781301  ... -0.030997\n",
       "\n",
       "[1 rows x 12 columns]"
      ]
     },
     "execution_count": 43,
     "metadata": {},
     "output_type": "execute_result"
    }
   ],
   "source": [
    "import warnings\n",
    "warnings.filterwarnings(\"ignore\")\n",
    "\n",
    "from sklearn.linear_model import LogisticRegression\n",
    "import numpy as np\n",
    "from sklearn.model_selection import cross_val_score\n",
    "\n",
    "logreg = LogisticRegression(penalty = 'none').fit(X_train, y_train)\n",
    "\n",
    "print(\"LOGISTIC REGRESSION (UNSCALED DATA)\")\n",
    "print(\"Training set score: {:.3f}\".format(logreg.score(X_train, y_train)))\n",
    "print(\"Test set score: {:.3f}\".format(logreg.score(X_test, y_test)))\n",
    "\n",
    "# Kfold Cross Validation\n",
    "print(\"Mean Cross Validation, KFold: {:.3f}\".format(np.mean(cross_val_score(logreg, X_train, y_train))))\n",
    "\n",
    "# Wine type prediction from test set (I'll use this later)\n",
    "logreg_predicted_vals = logreg.predict(X_test)\n",
    "\n",
    "# Organize the model coefficients\n",
    "logreg_coef = pd.DataFrame(data=logreg.coef_, columns=X.columns, index=['Logistic Regression Coefficients'])\n",
    "logreg_coef.head()"
   ]
  },
  {
   "cell_type": "markdown",
   "metadata": {
    "id": "oQ54ec9Z0G7q"
   },
   "source": [
    "### L1-Penalized Logistic Regression using cross-validation"
   ]
  },
  {
   "cell_type": "code",
   "execution_count": null,
   "metadata": {
    "colab": {
     "base_uri": "https://localhost:8080/",
     "height": 185
    },
    "id": "oaZtzW3B0G7s",
    "outputId": "12595a74-6695-469e-b87b-9d5a345734ea"
   },
   "outputs": [
    {
     "name": "stdout",
     "output_type": "stream",
     "text": [
      "PENALIZED LOGISTIC REGRESSION - L1 (UNSCALED DATA)\n",
      "Training set score: 0.988\n",
      "Test set score: 0.985\n",
      "Mean Cross Validation, KFold: 0.986\n"
     ]
    },
    {
     "data": {
      "text/html": [
       "<div>\n",
       "<style scoped>\n",
       "    .dataframe tbody tr th:only-of-type {\n",
       "        vertical-align: middle;\n",
       "    }\n",
       "\n",
       "    .dataframe tbody tr th {\n",
       "        vertical-align: top;\n",
       "    }\n",
       "\n",
       "    .dataframe thead th {\n",
       "        text-align: right;\n",
       "    }\n",
       "</style>\n",
       "<table border=\"1\" class=\"dataframe\">\n",
       "  <thead>\n",
       "    <tr style=\"text-align: right;\">\n",
       "      <th></th>\n",
       "      <th>fixed acidity</th>\n",
       "      <th>volatile acidity</th>\n",
       "      <th>citric acid</th>\n",
       "      <th>residual sugar</th>\n",
       "      <th>chlorides</th>\n",
       "      <th>free sulfur dioxide</th>\n",
       "      <th>total sulfur dioxide</th>\n",
       "      <th>density</th>\n",
       "      <th>pH</th>\n",
       "      <th>sulphates</th>\n",
       "      <th>alcohol</th>\n",
       "      <th>quality</th>\n",
       "    </tr>\n",
       "  </thead>\n",
       "  <tbody>\n",
       "    <tr>\n",
       "      <th>Penalized Logistic Regression Coefficients - L1</th>\n",
       "      <td>0.919235</td>\n",
       "      <td>11.462589</td>\n",
       "      <td>0.0</td>\n",
       "      <td>-0.125121</td>\n",
       "      <td>15.215872</td>\n",
       "      <td>0.059326</td>\n",
       "      <td>-0.066636</td>\n",
       "      <td>-9.013786</td>\n",
       "      <td>4.827119</td>\n",
       "      <td>8.350849</td>\n",
       "      <td>-0.614992</td>\n",
       "      <td>-0.046947</td>\n",
       "    </tr>\n",
       "  </tbody>\n",
       "</table>\n",
       "</div>"
      ],
      "text/plain": [
       "                                                 fixed acidity  ...   quality\n",
       "Penalized Logistic Regression Coefficients - L1       0.919235  ... -0.046947\n",
       "\n",
       "[1 rows x 12 columns]"
      ]
     },
     "execution_count": 44,
     "metadata": {},
     "output_type": "execute_result"
    }
   ],
   "source": [
    "pen_logreg_l1 = LogisticRegression(penalty = 'l1', solver = 'liblinear').fit(X_train, y_train) # Default = L2, Penalty = L1\n",
    "\n",
    "print(\"PENALIZED LOGISTIC REGRESSION - L1 (UNSCALED DATA)\")\n",
    "print(\"Training set score: {:.3f}\".format(pen_logreg_l1.score(X_train, y_train)))\n",
    "print(\"Test set score: {:.3f}\".format(pen_logreg_l1.score(X_test, y_test)))\n",
    "\n",
    "# Kfold Cross Validation\n",
    "print(\"Mean Cross Validation, KFold: {:.3f}\".format(np.mean(cross_val_score(pen_logreg_l1, X_train, y_train))))\n",
    "\n",
    "# Wine type prediction from test set (I'll use this later)\n",
    "pen_logreg_predicted_vals_l1 = pen_logreg_l1.predict(X_test)\n",
    "\n",
    "# Organize the model coefficients\n",
    "pen_logreg_coef_l1 = pd.DataFrame(data=pen_logreg_l1.coef_, columns=X.columns, index=['Penalized Logistic Regression Coefficients - L1'])\n",
    "pen_logreg_coef_l1.head()"
   ]
  },
  {
   "cell_type": "markdown",
   "metadata": {
    "id": "GFI_VUAItAkR"
   },
   "source": [
    "### L2-Penalized Logistic Regression using cross-validation"
   ]
  },
  {
   "cell_type": "code",
   "execution_count": null,
   "metadata": {
    "colab": {
     "base_uri": "https://localhost:8080/",
     "height": 185
    },
    "id": "myLwxKNU1Nd6",
    "outputId": "97113c50-5d0b-49a3-c290-27e6de3ed26b"
   },
   "outputs": [
    {
     "name": "stdout",
     "output_type": "stream",
     "text": [
      "PENALIZED LOGISTIC REGRESSION - L2 (UNSCALED DATA)\n",
      "Training set score: 0.982\n",
      "Test set score: 0.975\n",
      "Mean Cross Validation, KFold: 0.978\n"
     ]
    },
    {
     "data": {
      "text/html": [
       "<div>\n",
       "<style scoped>\n",
       "    .dataframe tbody tr th:only-of-type {\n",
       "        vertical-align: middle;\n",
       "    }\n",
       "\n",
       "    .dataframe tbody tr th {\n",
       "        vertical-align: top;\n",
       "    }\n",
       "\n",
       "    .dataframe thead th {\n",
       "        text-align: right;\n",
       "    }\n",
       "</style>\n",
       "<table border=\"1\" class=\"dataframe\">\n",
       "  <thead>\n",
       "    <tr style=\"text-align: right;\">\n",
       "      <th></th>\n",
       "      <th>fixed acidity</th>\n",
       "      <th>volatile acidity</th>\n",
       "      <th>citric acid</th>\n",
       "      <th>residual sugar</th>\n",
       "      <th>chlorides</th>\n",
       "      <th>free sulfur dioxide</th>\n",
       "      <th>total sulfur dioxide</th>\n",
       "      <th>density</th>\n",
       "      <th>pH</th>\n",
       "      <th>sulphates</th>\n",
       "      <th>alcohol</th>\n",
       "      <th>quality</th>\n",
       "    </tr>\n",
       "  </thead>\n",
       "  <tbody>\n",
       "    <tr>\n",
       "      <th>Penalized Logistic Regression Coefficients - L2</th>\n",
       "      <td>0.669844</td>\n",
       "      <td>8.316923</td>\n",
       "      <td>-1.881274</td>\n",
       "      <td>-0.15512</td>\n",
       "      <td>1.2459</td>\n",
       "      <td>0.052601</td>\n",
       "      <td>-0.065711</td>\n",
       "      <td>-1.344985</td>\n",
       "      <td>1.397932</td>\n",
       "      <td>6.50254</td>\n",
       "      <td>-0.7844</td>\n",
       "      <td>-0.102814</td>\n",
       "    </tr>\n",
       "  </tbody>\n",
       "</table>\n",
       "</div>"
      ],
      "text/plain": [
       "                                                 fixed acidity  ...   quality\n",
       "Penalized Logistic Regression Coefficients - L2       0.669844  ... -0.102814\n",
       "\n",
       "[1 rows x 12 columns]"
      ]
     },
     "execution_count": 45,
     "metadata": {},
     "output_type": "execute_result"
    }
   ],
   "source": [
    "pen_logreg_l2 = LogisticRegression().fit(X_train, y_train)\n",
    "\n",
    "print(\"PENALIZED LOGISTIC REGRESSION - L2 (UNSCALED DATA)\")\n",
    "print(\"Training set score: {:.3f}\".format(pen_logreg_l2.score(X_train, y_train)))\n",
    "print(\"Test set score: {:.3f}\".format(pen_logreg_l2.score(X_test, y_test))) \n",
    "\n",
    "# Kfold Cross Validation\n",
    "print(\"Mean Cross Validation, KFold: {:.3f}\".format(np.mean(cross_val_score(pen_logreg_l2, X_train, y_train))))\n",
    "\n",
    "# Wine type prediction from test set (I'll use this later)\n",
    "pen_logreg_predicted_vals_l2 = pen_logreg_l2.predict(X_test)\n",
    "\n",
    "# Organize the model coefficients\n",
    "pen_logreg_coef_l2 = pd.DataFrame(data=pen_logreg_l2.coef_, columns=X.columns, index=['Penalized Logistic Regression Coefficients - L2'])\n",
    "pen_logreg_coef_l2.head()"
   ]
  },
  {
   "cell_type": "code",
   "execution_count": null,
   "metadata": {
    "colab": {
     "base_uri": "https://localhost:8080/",
     "height": 247
    },
    "id": "XkpQuWsUs2oP",
    "outputId": "4bb95791-b449-4753-f2a6-ec4e1a274db6"
   },
   "outputs": [
    {
     "data": {
      "text/html": [
       "<div>\n",
       "<style scoped>\n",
       "    .dataframe tbody tr th:only-of-type {\n",
       "        vertical-align: middle;\n",
       "    }\n",
       "\n",
       "    .dataframe tbody tr th {\n",
       "        vertical-align: top;\n",
       "    }\n",
       "\n",
       "    .dataframe thead th {\n",
       "        text-align: right;\n",
       "    }\n",
       "</style>\n",
       "<table border=\"1\" class=\"dataframe\">\n",
       "  <thead>\n",
       "    <tr style=\"text-align: right;\">\n",
       "      <th></th>\n",
       "      <th>fixed acidity</th>\n",
       "      <th>volatile acidity</th>\n",
       "      <th>citric acid</th>\n",
       "      <th>residual sugar</th>\n",
       "      <th>chlorides</th>\n",
       "      <th>free sulfur dioxide</th>\n",
       "      <th>total sulfur dioxide</th>\n",
       "      <th>density</th>\n",
       "      <th>pH</th>\n",
       "      <th>sulphates</th>\n",
       "      <th>alcohol</th>\n",
       "      <th>quality</th>\n",
       "    </tr>\n",
       "  </thead>\n",
       "  <tbody>\n",
       "    <tr>\n",
       "      <th>Logistic Regression Coefficients</th>\n",
       "      <td>0.781301</td>\n",
       "      <td>13.386510</td>\n",
       "      <td>-2.873397</td>\n",
       "      <td>-0.169794</td>\n",
       "      <td>2.032668</td>\n",
       "      <td>0.073992</td>\n",
       "      <td>-0.078192</td>\n",
       "      <td>-2.528973</td>\n",
       "      <td>1.174202</td>\n",
       "      <td>10.639989</td>\n",
       "      <td>-0.925920</td>\n",
       "      <td>-0.030997</td>\n",
       "    </tr>\n",
       "    <tr>\n",
       "      <th>Penalized Logistic Regression Coefficients - L1</th>\n",
       "      <td>0.919235</td>\n",
       "      <td>11.462589</td>\n",
       "      <td>0.000000</td>\n",
       "      <td>-0.125121</td>\n",
       "      <td>15.215872</td>\n",
       "      <td>0.059326</td>\n",
       "      <td>-0.066636</td>\n",
       "      <td>-9.013786</td>\n",
       "      <td>4.827119</td>\n",
       "      <td>8.350849</td>\n",
       "      <td>-0.614992</td>\n",
       "      <td>-0.046947</td>\n",
       "    </tr>\n",
       "    <tr>\n",
       "      <th>Penalized Logistic Regression Coefficients - L2</th>\n",
       "      <td>0.669844</td>\n",
       "      <td>8.316923</td>\n",
       "      <td>-1.881274</td>\n",
       "      <td>-0.155120</td>\n",
       "      <td>1.245900</td>\n",
       "      <td>0.052601</td>\n",
       "      <td>-0.065711</td>\n",
       "      <td>-1.344985</td>\n",
       "      <td>1.397932</td>\n",
       "      <td>6.502540</td>\n",
       "      <td>-0.784400</td>\n",
       "      <td>-0.102814</td>\n",
       "    </tr>\n",
       "  </tbody>\n",
       "</table>\n",
       "</div>"
      ],
      "text/plain": [
       "                                                 fixed acidity  ...   quality\n",
       "Logistic Regression Coefficients                      0.781301  ... -0.030997\n",
       "Penalized Logistic Regression Coefficients - L1       0.919235  ... -0.046947\n",
       "Penalized Logistic Regression Coefficients - L2       0.669844  ... -0.102814\n",
       "\n",
       "[3 rows x 12 columns]"
      ]
     },
     "execution_count": 46,
     "metadata": {},
     "output_type": "execute_result"
    }
   ],
   "source": [
    "# Print coefficients for comparison\n",
    "c = [logreg_coef, pen_logreg_coef_l1, pen_logreg_coef_l2]\n",
    "coefs = pd.concat(c)\n",
    "coefs.head()"
   ]
  },
  {
   "cell_type": "markdown",
   "metadata": {
    "id": "sbUrlRP70G70"
   },
   "source": [
    "### KNN Classifier using cross-validation"
   ]
  },
  {
   "cell_type": "code",
   "execution_count": null,
   "metadata": {
    "colab": {
     "base_uri": "https://localhost:8080/"
    },
    "id": "JlfTN0e50G71",
    "outputId": "7bde5ce9-24c6-4111-a360-b45b643dbcf4"
   },
   "outputs": [
    {
     "name": "stdout",
     "output_type": "stream",
     "text": [
      "KNN CLASSIFER (UNSCALED DATA)\n",
      "Training set score: 0.958\n",
      "Test set score: 0.936\n",
      "Mean Cross Validation, KFold: 0.942\n"
     ]
    }
   ],
   "source": [
    "from sklearn.neighbors import KNeighborsClassifier\n",
    "# Notice that I'm using a Classifier here (as opposed to the Regressor we used in PART 1)\n",
    "\n",
    "knn = KNeighborsClassifier().fit(X_train, y_train)\n",
    "\n",
    "print(\"KNN CLASSIFER (UNSCALED DATA)\")\n",
    "print(\"Training set score: {:.3f}\".format(knn.score(X_train, y_train)))\n",
    "print(\"Test set score: {:.3f}\".format(knn.score(X_test, y_test)))\n",
    "\n",
    "# Kfold Cross Validation\n",
    "print(\"Mean Cross Validation, KFold: {:.3f}\".format(np.mean(cross_val_score(knn, X_train, y_train))))\n",
    "\n",
    "# Wine type prediction from test set (I'll use this later)\n",
    "y_pred = knn.predict(X_test)"
   ]
  },
  {
   "cell_type": "markdown",
   "metadata": {
    "id": "SUbXm78H0G79"
   },
   "source": [
    "**Note:** KNN classifier can not produce coefficients. So we don't include them here."
   ]
  },
  {
   "cell_type": "markdown",
   "metadata": {
    "id": "MIKwu3hz0G7-"
   },
   "source": [
    "##2.2c How different are the results?"
   ]
  },
  {
   "cell_type": "code",
   "execution_count": null,
   "metadata": {
    "colab": {
     "base_uri": "https://localhost:8080/"
    },
    "id": "JUzwZ8qC0G8D",
    "outputId": "39c31c74-d4ed-4803-a756-9360563a554e"
   },
   "outputs": [
    {
     "data": {
      "text/plain": [
       "N  L1\n",
       "0  0     1238\n",
       "   1        6\n",
       "1  0        8\n",
       "   1      373\n",
       "Name: knn, dtype: int64"
      ]
     },
     "execution_count": 48,
     "metadata": {},
     "output_type": "execute_result"
    }
   ],
   "source": [
    "# Organize predictions from each model into a dataframe\n",
    "results = pd.DataFrame()\n",
    "results = results.assign(N=logreg_predicted_vals)\n",
    "results = results.assign(L2=pen_logreg_predicted_vals_l2)\n",
    "results = results.assign(L1=pen_logreg_predicted_vals_l1)\n",
    "results = results.assign(knn=y_pred)\n",
    "\n",
    "# Count the combinations\n",
    "results.groupby(['N', 'L1'])['knn'].count()"
   ]
  },
  {
   "cell_type": "markdown",
   "metadata": {
    "id": "vkKS3EWf0G8P"
   },
   "source": [
    "**Note:** KNN shows the highest count where the Logistic Regression and the Penalized Logistic Regression models (L1) agree (0, 0, 1238) and (1, 1, 373)."
   ]
  },
  {
   "cell_type": "code",
   "execution_count": null,
   "metadata": {
    "colab": {
     "base_uri": "https://localhost:8080/"
    },
    "id": "cqoXzLVn0G8R",
    "outputId": "26679bf9-123c-4bfa-ba80-7cf735475aac"
   },
   "outputs": [
    {
     "data": {
      "text/plain": [
       "N  knn\n",
       "0  0      1205\n",
       "   1        39\n",
       "1  0        64\n",
       "   1       317\n",
       "Name: L1, dtype: int64"
      ]
     },
     "execution_count": 49,
     "metadata": {},
     "output_type": "execute_result"
    }
   ],
   "source": [
    "results.groupby(['N','knn'])['L1'].count()"
   ]
  },
  {
   "cell_type": "markdown",
   "metadata": {
    "id": "iw3Ykuet0G8a"
   },
   "source": [
    "**Note:** Penalized Regressions shows the highest count where the Logistic Regression and the KNN models agree (0, 0, 1205) and (1, 1, 317). (Notice that Penlized Logistic Regression is less likely to agree with the combined predictions of KNN and Logistic Regression than KNN is to agree with the combined predictions of Logistic Regression and Penalized Regression)."
   ]
  },
  {
   "cell_type": "code",
   "execution_count": null,
   "metadata": {
    "colab": {
     "base_uri": "https://localhost:8080/"
    },
    "id": "lUwNPK8z0G8c",
    "outputId": "52f9af44-7667-4533-95c6-1af8c7226833"
   },
   "outputs": [
    {
     "data": {
      "text/plain": [
       "knn  L1\n",
       "0    0     1210\n",
       "     1       59\n",
       "1    0       36\n",
       "     1      320\n",
       "Name: N, dtype: int64"
      ]
     },
     "execution_count": 50,
     "metadata": {},
     "output_type": "execute_result"
    }
   ],
   "source": [
    "results.groupby(['knn','L1'])['N'].count()"
   ]
  },
  {
   "cell_type": "markdown",
   "metadata": {
    "id": "6G43SV9r0G8j"
   },
   "source": [
    "**Note:** Logistic Regressions shows the highest count where the KNN and Penalized Logistic Regression models agree (0, 0, 1210) and (1, 1, 320). (Notice that Logistic  Regression is also less likely to agree with the combined predictions of KNN and Penalized Logistic Regression than KNN is to agree with the combined predictions of Logistic Regression and Penalized Regression. This is a similar pattern noted in the previous cell)."
   ]
  },
  {
   "cell_type": "code",
   "execution_count": null,
   "metadata": {
    "colab": {
     "base_uri": "https://localhost:8080/"
    },
    "id": "nnia5mEp5qzD",
    "outputId": "d956361a-769e-4f4c-c8fb-f36fc65a4f0b"
   },
   "outputs": [
    {
     "data": {
      "text/plain": [
       "N  L1  L2\n",
       "0  0   0     1236\n",
       "       1        2\n",
       "   1   0        5\n",
       "       1        1\n",
       "1  0   0        3\n",
       "       1        5\n",
       "   1   0        6\n",
       "       1      367\n",
       "Name: knn, dtype: int64"
      ]
     },
     "execution_count": 51,
     "metadata": {},
     "output_type": "execute_result"
    }
   ],
   "source": [
    "results.groupby(['N', 'L1', 'L2'])['knn'].count()"
   ]
  },
  {
   "cell_type": "code",
   "execution_count": null,
   "metadata": {
    "colab": {
     "base_uri": "https://localhost:8080/"
    },
    "id": "Z_hxBRB8u-eg",
    "outputId": "2bda445f-cfe0-4f8f-e0f8-b4c94f0918a2"
   },
   "outputs": [
    {
     "name": "stdout",
     "output_type": "stream",
     "text": [
      "Logistic Regression Mean Cross Validation: 0.983\n",
      "L1-Penalized Logistic Regression Mean Cross Validation: 0.985\n",
      "L2-Penalized Logistic Regression Mean Cross Validation: 0.978\n",
      "KNN Classifier Mean Cross Validation: 0.942\n"
     ]
    }
   ],
   "source": [
    "print(\"Logistic Regression Mean Cross Validation: {:.3f}\".format(np.mean(cross_val_score(logreg, X_train, y_train))))\n",
    "print(\"L1-Penalized Logistic Regression Mean Cross Validation: {:.3f}\".format(np.mean(cross_val_score(pen_logreg_l1, X_train, y_train))))\n",
    "print(\"L2-Penalized Logistic Regression Mean Cross Validation: {:.3f}\".format(np.mean(cross_val_score(pen_logreg_l2, X_train, y_train))))\n",
    "print(\"KNN Classifier Mean Cross Validation: {:.3f}\".format(np.mean(cross_val_score(knn, X_train, y_train))))"
   ]
  },
  {
   "cell_type": "markdown",
   "metadata": {
    "id": "dGaP4y3D0G8k"
   },
   "source": [
    "**Answer:** The regressions are more accurate than the nearest neighbor (Logisic Regression Accuracy = 0.983, Penalized Logistic Regression Accuracy = 0.985 & 0.978, KNN Accuracy = 0.942). This is most likely the result of their predicting slightly different results. Logistic Regression and Penalized Logistic Regression tend to make similar predictions - only disagreeing in about 10 instances - while the KNN Classifier model disagrees with the logistic model predictions by in about 50 instances."
   ]
  },
  {
   "cell_type": "markdown",
   "metadata": {
    "id": "i0DbJ5_I0G8m"
   },
   "source": [
    "##2.2d How does scaling the data with StandardScaler influence the results?"
   ]
  },
  {
   "cell_type": "code",
   "execution_count": null,
   "metadata": {
    "id": "9JOY9sjY0G8n"
   },
   "outputs": [],
   "source": [
    "from sklearn.preprocessing import StandardScaler\n",
    "\n",
    "scaler = StandardScaler().fit(X_train)\n",
    "X_train_scaled = scaler.transform(X_train)\n",
    "X_test_scaled = scaler.transform(X_test)"
   ]
  },
  {
   "cell_type": "markdown",
   "metadata": {
    "id": "KuiJd3b20G8t"
   },
   "source": [
    "### Scaled Logistic Regression using cross-validation"
   ]
  },
  {
   "cell_type": "code",
   "execution_count": null,
   "metadata": {
    "colab": {
     "base_uri": "https://localhost:8080/"
    },
    "id": "i8VWDRo60G8x",
    "outputId": "9bb8d7ff-bce4-4c7a-cc29-266b098f2ffe"
   },
   "outputs": [
    {
     "name": "stdout",
     "output_type": "stream",
     "text": [
      "LOGISTIC REGRESSION (SCALED DATA)\n",
      "Training set score: 0.994\n",
      "Test set score: 0.993\n",
      "Mean Cross Validation, KFold: 0.994\n"
     ]
    }
   ],
   "source": [
    "logreg_scaled = LogisticRegression(penalty='none').fit(X_train_scaled, y_train)\n",
    "\n",
    "print(\"LOGISTIC REGRESSION (SCALED DATA)\")\n",
    "print(\"Training set score: {:.3f}\".format(logreg_scaled.score(X_train_scaled, y_train)))\n",
    "print(\"Test set score: {:.3f}\".format(logreg_scaled.score(X_test_scaled, y_test)))\n",
    "\n",
    "# Kfold Cross Validation\n",
    "print(\"Mean Cross Validation, KFold: {:.3f}\".format(np.mean(cross_val_score(logreg_scaled, X_train_scaled, y_train))))\n",
    "\n",
    "# Organize the model coefficients\n",
    "logreg_scaled_coef = pd.DataFrame(data=logreg_scaled.coef_, columns=X.columns, index=['Scaled Logistic Regression Coefficients'])"
   ]
  },
  {
   "cell_type": "markdown",
   "metadata": {
    "id": "oouvnb700G83"
   },
   "source": [
    "### Scaled Penalized Logistic Regression using cross-validation"
   ]
  },
  {
   "cell_type": "code",
   "execution_count": null,
   "metadata": {
    "colab": {
     "base_uri": "https://localhost:8080/",
     "height": 497
    },
    "id": "-OZmlPF-0G85",
    "outputId": "e947330c-e77a-4138-a9bc-b48eb61a8c2a"
   },
   "outputs": [
    {
     "name": "stdout",
     "output_type": "stream",
     "text": [
      "PENALIZED LOGISTIC REGRESSION - L1 (SCALED DATA)\n",
      "Training set score: 0.994\n",
      "Test set score: 0.993\n",
      "Mean Cross Validation, KFold: 0.986\n",
      "PENALIZED LOGISTIC REGRESSION - L2 (SCALED DATA)\n",
      "Training set score: 0.994\n",
      "Test set score: 0.991\n",
      "Mean Cross Validation, KFold: 0.978\n"
     ]
    },
    {
     "data": {
      "text/html": [
       "<div>\n",
       "<style scoped>\n",
       "    .dataframe tbody tr th:only-of-type {\n",
       "        vertical-align: middle;\n",
       "    }\n",
       "\n",
       "    .dataframe tbody tr th {\n",
       "        vertical-align: top;\n",
       "    }\n",
       "\n",
       "    .dataframe thead th {\n",
       "        text-align: right;\n",
       "    }\n",
       "</style>\n",
       "<table border=\"1\" class=\"dataframe\">\n",
       "  <thead>\n",
       "    <tr style=\"text-align: right;\">\n",
       "      <th></th>\n",
       "      <th>fixed acidity</th>\n",
       "      <th>volatile acidity</th>\n",
       "      <th>citric acid</th>\n",
       "      <th>residual sugar</th>\n",
       "      <th>chlorides</th>\n",
       "      <th>free sulfur dioxide</th>\n",
       "      <th>total sulfur dioxide</th>\n",
       "      <th>density</th>\n",
       "      <th>pH</th>\n",
       "      <th>sulphates</th>\n",
       "      <th>alcohol</th>\n",
       "      <th>quality</th>\n",
       "    </tr>\n",
       "  </thead>\n",
       "  <tbody>\n",
       "    <tr>\n",
       "      <th>Logistic Regression Coefficients</th>\n",
       "      <td>0.781301</td>\n",
       "      <td>13.386510</td>\n",
       "      <td>-2.873397</td>\n",
       "      <td>-0.169794</td>\n",
       "      <td>2.032668</td>\n",
       "      <td>0.073992</td>\n",
       "      <td>-0.078192</td>\n",
       "      <td>-2.528973</td>\n",
       "      <td>1.174202</td>\n",
       "      <td>10.639989</td>\n",
       "      <td>-0.925920</td>\n",
       "      <td>-0.030997</td>\n",
       "    </tr>\n",
       "    <tr>\n",
       "      <th>Penalized Logistic Regression Coefficients - L1</th>\n",
       "      <td>0.919235</td>\n",
       "      <td>11.462589</td>\n",
       "      <td>0.000000</td>\n",
       "      <td>-0.125121</td>\n",
       "      <td>15.215872</td>\n",
       "      <td>0.059326</td>\n",
       "      <td>-0.066636</td>\n",
       "      <td>-9.013786</td>\n",
       "      <td>4.827119</td>\n",
       "      <td>8.350849</td>\n",
       "      <td>-0.614992</td>\n",
       "      <td>-0.046947</td>\n",
       "    </tr>\n",
       "    <tr>\n",
       "      <th>Penalized Logistic Regression Coefficients - L2</th>\n",
       "      <td>0.669844</td>\n",
       "      <td>8.316923</td>\n",
       "      <td>-1.881274</td>\n",
       "      <td>-0.155120</td>\n",
       "      <td>1.245900</td>\n",
       "      <td>0.052601</td>\n",
       "      <td>-0.065711</td>\n",
       "      <td>-1.344985</td>\n",
       "      <td>1.397932</td>\n",
       "      <td>6.502540</td>\n",
       "      <td>-0.784400</td>\n",
       "      <td>-0.102814</td>\n",
       "    </tr>\n",
       "    <tr>\n",
       "      <th>Scaled Logistic Regression Coefficients</th>\n",
       "      <td>-0.396933</td>\n",
       "      <td>1.155973</td>\n",
       "      <td>-0.464869</td>\n",
       "      <td>-5.603123</td>\n",
       "      <td>0.759642</td>\n",
       "      <td>1.435934</td>\n",
       "      <td>-3.336956</td>\n",
       "      <td>5.750060</td>\n",
       "      <td>-0.288440</td>\n",
       "      <td>0.437953</td>\n",
       "      <td>2.317036</td>\n",
       "      <td>0.186765</td>\n",
       "    </tr>\n",
       "    <tr>\n",
       "      <th>Scaled Penalized Logistic Regression Coefficients - L1</th>\n",
       "      <td>-0.033891</td>\n",
       "      <td>1.178414</td>\n",
       "      <td>-0.397744</td>\n",
       "      <td>-4.541071</td>\n",
       "      <td>0.742800</td>\n",
       "      <td>1.157368</td>\n",
       "      <td>-3.059747</td>\n",
       "      <td>4.668079</td>\n",
       "      <td>0.000000</td>\n",
       "      <td>0.484310</td>\n",
       "      <td>1.777803</td>\n",
       "      <td>0.167142</td>\n",
       "    </tr>\n",
       "    <tr>\n",
       "      <th>Scaled Penalized Logistic Regression Coefficients - L2</th>\n",
       "      <td>0.355438</td>\n",
       "      <td>1.280869</td>\n",
       "      <td>-0.359597</td>\n",
       "      <td>-3.521214</td>\n",
       "      <td>0.793006</td>\n",
       "      <td>0.928958</td>\n",
       "      <td>-2.918439</td>\n",
       "      <td>3.497433</td>\n",
       "      <td>0.320909</td>\n",
       "      <td>0.635613</td>\n",
       "      <td>1.204437</td>\n",
       "      <td>0.162930</td>\n",
       "    </tr>\n",
       "  </tbody>\n",
       "</table>\n",
       "</div>"
      ],
      "text/plain": [
       "                                                    fixed acidity  ...   quality\n",
       "Logistic Regression Coefficients                         0.781301  ... -0.030997\n",
       "Penalized Logistic Regression Coefficients - L1          0.919235  ... -0.046947\n",
       "Penalized Logistic Regression Coefficients - L2          0.669844  ... -0.102814\n",
       "Scaled Logistic Regression Coefficients                 -0.396933  ...  0.186765\n",
       "Scaled Penalized Logistic Regression Coefficien...      -0.033891  ...  0.167142\n",
       "Scaled Penalized Logistic Regression Coefficien...       0.355438  ...  0.162930\n",
       "\n",
       "[6 rows x 12 columns]"
      ]
     },
     "execution_count": 55,
     "metadata": {},
     "output_type": "execute_result"
    }
   ],
   "source": [
    "pen_logreg_scaled_l1 = LogisticRegression(penalty = 'l1', solver = 'liblinear').fit(X_train_scaled, y_train)\n",
    "\n",
    "print(\"PENALIZED LOGISTIC REGRESSION - L1 (SCALED DATA)\")\n",
    "print(\"Training set score: {:.3f}\".format(pen_logreg_scaled_l1.score(X_train_scaled, y_train)))\n",
    "print(\"Test set score: {:.3f}\".format(pen_logreg_scaled_l1.score(X_test_scaled, y_test)))\n",
    "\n",
    "# Stratified Kfold Cross Validation \n",
    "print(\"Mean Cross Validation, KFold: {:.3f}\".format(np.mean(cross_val_score(pen_logreg_scaled_l1, X_train, y_train))))\n",
    "\n",
    "# Organize the model coefficients\n",
    "pen_logreg_scaled_coef_l1 = pd.DataFrame(data=pen_logreg_scaled_l1.coef_, columns=X.columns, index=['Scaled Penalized Logistic Regression Coefficients - L1'])\n",
    "\n",
    "pen_logreg_scaled_l2 = LogisticRegression(penalty = 'l2').fit(X_train_scaled, y_train)\n",
    "\n",
    "print(\"PENALIZED LOGISTIC REGRESSION - L2 (SCALED DATA)\")\n",
    "print(\"Training set score: {:.3f}\".format(pen_logreg_scaled_l2.score(X_train_scaled, y_train)))\n",
    "print(\"Test set score: {:.3f}\".format(pen_logreg_scaled_l2.score(X_test_scaled, y_test)))\n",
    "\n",
    "# Stratified Kfold Cross Validation \n",
    "print(\"Mean Cross Validation, KFold: {:.3f}\".format(np.mean(cross_val_score(pen_logreg_scaled_l2, X_train, y_train))))\n",
    "\n",
    "# Organize the model coefficients\n",
    "pen_logreg_scaled_coef_l2 = pd.DataFrame(data=pen_logreg_scaled_l2.coef_, columns=X.columns, index=['Scaled Penalized Logistic Regression Coefficients - L2'])\n",
    "\n",
    "# Print coefficients for comparison\n",
    "c3 = [logreg_coef, pen_logreg_coef_l1, pen_logreg_coef_l2, logreg_scaled_coef, pen_logreg_scaled_coef_l1, pen_logreg_scaled_coef_l2]\n",
    "coefs = pd.concat(c3)\n",
    "coefs"
   ]
  },
  {
   "cell_type": "markdown",
   "metadata": {
    "id": "settEjOY0G9B"
   },
   "source": [
    "### Scaled KNN using cross validation"
   ]
  },
  {
   "cell_type": "code",
   "execution_count": null,
   "metadata": {
    "colab": {
     "base_uri": "https://localhost:8080/"
    },
    "id": "15_-VPcQ0G9C",
    "outputId": "8421876a-ac5a-461f-affc-389edcf3457a"
   },
   "outputs": [
    {
     "name": "stdout",
     "output_type": "stream",
     "text": [
      "KNN CLASSIFER (SCALED DATA)\n",
      "Training set score: 0.995\n",
      "Test set score: 0.991\n",
      "Mean Cross Validation, KFold: 0.993\n"
     ]
    }
   ],
   "source": [
    "from sklearn.neighbors import KNeighborsClassifier\n",
    "\n",
    "knn_scaled = KNeighborsClassifier().fit(X_train_scaled, y_train)\n",
    "\n",
    "print(\"KNN CLASSIFER (SCALED DATA)\")\n",
    "print(\"Training set score: {:.3f}\".format(knn_scaled.score(X_train_scaled, y_train)))\n",
    "print(\"Test set score: {:.3f}\".format(knn_scaled.score(X_test_scaled, y_test)))\n",
    "\n",
    "# Stratified Kfold Cross Validation\n",
    "print(\"Mean Cross Validation, KFold: {:.3f}\".format(np.mean(cross_val_score(knn_scaled, X_train_scaled, y_train))))"
   ]
  },
  {
   "cell_type": "markdown",
   "metadata": {
    "id": "o9GqXJik0G9I"
   },
   "source": [
    "**Note:** KNN classifier can not produce coefficients. So we don't include them here."
   ]
  },
  {
   "cell_type": "code",
   "execution_count": null,
   "metadata": {
    "colab": {
     "base_uri": "https://localhost:8080/"
    },
    "id": "RD669bJX0G9L",
    "outputId": "3048538e-0b9f-45d2-9633-4eae2d63ee58"
   },
   "outputs": [
    {
     "name": "stdout",
     "output_type": "stream",
     "text": [
      "LOGISTIC REGRESSION\n",
      "Unscaled: 0.977\n",
      "Scaled: 0.993\n",
      "\n",
      "PENALIZED LOGISTIC REGRESSION - L1\n",
      "Unscaled: 0.985\n",
      "Scaled: 0.993\n",
      "\n",
      "PENALIZED LOGISTIC REGRESSION - L2\n",
      "Unscaled: 0.975\n",
      "Scaled: 0.991\n",
      "\n",
      "KNN CLASSIFIER\n",
      "Unscaled: 0.936\n",
      "Scaled: 0.991\n"
     ]
    }
   ],
   "source": [
    "print(\"LOGISTIC REGRESSION\")\n",
    "print(\"Unscaled: {:.3f}\".format(logreg.score(X_test, y_test)))\n",
    "print(\"Scaled: {:.3f}\".format(logreg_scaled.score(X_test_scaled, y_test)))\n",
    "print(\"\")\n",
    "print(\"PENALIZED LOGISTIC REGRESSION - L1\")\n",
    "print(\"Unscaled: {:.3f}\".format(pen_logreg_l1.score(X_test, y_test)))\n",
    "print(\"Scaled: {:.3f}\".format(pen_logreg_scaled_l1.score(X_test_scaled, y_test)))\n",
    "print(\"\")\n",
    "print(\"PENALIZED LOGISTIC REGRESSION - L2\")\n",
    "print(\"Unscaled: {:.3f}\".format(pen_logreg_l2.score(X_test, y_test)))\n",
    "print(\"Scaled: {:.3f}\".format(pen_logreg_scaled_l2.score(X_test_scaled, y_test)))\n",
    "print(\"\")\n",
    "print(\"KNN CLASSIFIER\")\n",
    "print(\"Unscaled: {:.3f}\".format(knn.score(X_test, y_test)))\n",
    "print(\"Scaled: {:.3f}\".format(knn_scaled.score(X_test_scaled, y_test)))"
   ]
  },
  {
   "cell_type": "markdown",
   "metadata": {
    "id": "5iqIWstu0G9Q"
   },
   "source": [
    "**Answer:** Scalling the data with StandardScaler improves the results for all models, particularly for KNN."
   ]
  },
  {
   "cell_type": "markdown",
   "metadata": {
    "id": "ci8XsBXl0G9S"
   },
   "source": [
    "## 2.3a Tune the parameters where possible using GridSearchCV."
   ]
  },
  {
   "cell_type": "markdown",
   "metadata": {
    "id": "30ES52Op0G9T"
   },
   "source": [
    "### GridsearchCV with Logistic Regression"
   ]
  },
  {
   "cell_type": "code",
   "execution_count": null,
   "metadata": {
    "colab": {
     "base_uri": "https://localhost:8080/"
    },
    "id": "OSmNyNhX0G9V",
    "outputId": "890fea67-657c-4009-e13b-8ab0717b3f5b"
   },
   "outputs": [
    {
     "name": "stdout",
     "output_type": "stream",
     "text": [
      "LOGISTIC REGRESSION (SCALED DATA)\n",
      "Best Parameter: {'C': 0.001}\n",
      "Best Cross-Validation Score: 0.994\n",
      "Test set Score: 0.993\n"
     ]
    }
   ],
   "source": [
    "from sklearn.pipeline import make_pipeline\n",
    "from sklearn.model_selection import GridSearchCV\n",
    "\n",
    "logreg_param_grid = {'C': [0.001, 0.01, 0.1, 1, 10, 100, 1000]}\n",
    "logreg_grid = GridSearchCV(LogisticRegression(penalty='none'), logreg_param_grid).fit(X_train_scaled, y_train)\n",
    "\n",
    "print(\"LOGISTIC REGRESSION (SCALED DATA)\")\n",
    "print(\"Best Parameter: {}\".format(logreg_grid.best_params_))\n",
    "print(\"Best Cross-Validation Score: {:.3f}\".format(logreg_grid.best_score_))\n",
    "print(\"Test set Score: {:.3f}\".format(logreg_grid.score(X_test_scaled, y_test)))"
   ]
  },
  {
   "cell_type": "markdown",
   "metadata": {
    "id": "2eqH91Vw0G9g"
   },
   "source": [
    "### GridsearchCV with L1-Penalized Logistic Regression"
   ]
  },
  {
   "cell_type": "code",
   "execution_count": null,
   "metadata": {
    "colab": {
     "base_uri": "https://localhost:8080/"
    },
    "id": "B6DCYjgr0G9k",
    "outputId": "8791c910-fad0-41f2-f54d-d4905f455266"
   },
   "outputs": [
    {
     "name": "stdout",
     "output_type": "stream",
     "text": [
      "PENLIZED LOGISTIC REGRESSION - L1 (SCALED DATA)\n",
      "Best Parameter: {'C': 1}\n",
      "Best Cross-Validation Score: 0.994\n",
      "Test set Score: 0.993\n"
     ]
    }
   ],
   "source": [
    "pen_logreg_param_grid = {'C': [0.001, 0.01, 0.1, 1, 10, 100, 1000]}\n",
    "pen_logreg_grid_l1 = GridSearchCV(LogisticRegression(penalty='l1', solver = 'liblinear'), pen_logreg_param_grid).fit(X_train_scaled, y_train)\n",
    "\n",
    "print(\"PENLIZED LOGISTIC REGRESSION - L1 (SCALED DATA)\")\n",
    "print(\"Best Parameter: {}\".format(pen_logreg_grid_l1.best_params_))\n",
    "print(\"Best Cross-Validation Score: {:.3f}\".format(pen_logreg_grid_l1.best_score_))\n",
    "print(\"Test set Score: {:.3f}\".format(pen_logreg_grid_l1.score(X_test_scaled, y_test)))"
   ]
  },
  {
   "cell_type": "markdown",
   "metadata": {
    "id": "hMP6WE3NxrAl"
   },
   "source": [
    "### GridsearchCV with L2-Penalized Logistic Regression"
   ]
  },
  {
   "cell_type": "code",
   "execution_count": null,
   "metadata": {
    "colab": {
     "base_uri": "https://localhost:8080/"
    },
    "id": "mwqPGYBbxsTp",
    "outputId": "9ec73240-5ee0-4a26-df81-508748eb1757"
   },
   "outputs": [
    {
     "name": "stdout",
     "output_type": "stream",
     "text": [
      "PENLIZED LOGISTIC REGRESSION - L2 (SCALED DATA)\n",
      "Best Parameter: {'C': 10}\n",
      "Best Cross-Validation Score: 0.994\n",
      "Test set Score: 0.993\n"
     ]
    }
   ],
   "source": [
    "pen_logreg_param_grid = {'C': [0.001, 0.01, 0.1, 1, 10, 100, 1000]}\n",
    "pen_logreg_grid_l2 = GridSearchCV(LogisticRegression(), pen_logreg_param_grid).fit(X_train_scaled, y_train)\n",
    "\n",
    "print(\"PENLIZED LOGISTIC REGRESSION - L2 (SCALED DATA)\")\n",
    "print(\"Best Parameter: {}\".format(pen_logreg_grid_l2.best_params_))\n",
    "print(\"Best Cross-Validation Score: {:.3f}\".format(pen_logreg_grid_l2.best_score_))\n",
    "print(\"Test set Score: {:.3f}\".format(pen_logreg_grid_l2.score(X_test_scaled, y_test)))"
   ]
  },
  {
   "cell_type": "markdown",
   "metadata": {
    "id": "-Ww5G-Ue0G9s"
   },
   "source": [
    "### GridsearchCV with KNN Classifier"
   ]
  },
  {
   "cell_type": "code",
   "execution_count": null,
   "metadata": {
    "colab": {
     "base_uri": "https://localhost:8080/"
    },
    "id": "kfa_jCXV0G9u",
    "outputId": "c91e2429-5016-42d7-df74-ab52398d446d"
   },
   "outputs": [
    {
     "name": "stdout",
     "output_type": "stream",
     "text": [
      "KNN for REGRESSION (SCALED DATA)\n",
      "Best Parameter: {'n_neighbors': 6}\n",
      "Best Cross-Validation Score: 0.994\n",
      "Test set Score: 0.993\n"
     ]
    }
   ],
   "source": [
    "knn_param_grid = {'n_neighbors': range(1, 10)}\n",
    "knn_grid = GridSearchCV(KNeighborsClassifier(), knn_param_grid).fit(X_train_scaled, y_train)\n",
    "\n",
    "print(\"KNN for REGRESSION (SCALED DATA)\")\n",
    "print(\"Best Parameter: {}\".format(knn_grid.best_params_))\n",
    "print(\"Best Cross-Validation Score: {:.3f}\".format(knn_grid.best_score_))\n",
    "print(\"Test set Score: {:.3f}\".format(knn_grid.score(X_test_scaled, y_test)))"
   ]
  },
  {
   "cell_type": "markdown",
   "metadata": {
    "id": "7KsjiPJ20G9z"
   },
   "source": [
    "##2.3b Do the results improve?"
   ]
  },
  {
   "cell_type": "code",
   "execution_count": null,
   "metadata": {
    "colab": {
     "base_uri": "https://localhost:8080/"
    },
    "id": "BcE-FCOz0G90",
    "outputId": "604a96de-1155-4424-fedd-fccf3dedf1c5"
   },
   "outputs": [
    {
     "name": "stdout",
     "output_type": "stream",
     "text": [
      "LOGISTIC REGRESSION\n",
      "Before Gridsearch: 0.993231\n",
      "After Gridsearch: 0.993231\n",
      "\n",
      "PENALIZED LOGISTIC REGRESSION - L1\n",
      "Before Gridsearch: 0.992615\n",
      "After Gridsearch: 0.992615\n",
      "\n",
      "PENALIZED LOGISTIC REGRESSION - L2\n",
      "Before Gridsearch: 0.991385\n",
      "After Gridsearch: 0.992615\n",
      "\n",
      "KNN CLASSIFIER\n",
      "Before Gridsearch: 0.991385\n",
      "After Gridsearch: 0.993231\n"
     ]
    }
   ],
   "source": [
    "print(\"LOGISTIC REGRESSION\")\n",
    "print(\"Before Gridsearch: {:.6f}\".format(logreg_scaled.score(X_test_scaled, y_test)))\n",
    "print(\"After Gridsearch: {:.6f}\".format(logreg_grid.score(X_test_scaled, y_test)))\n",
    "print(\"\")\n",
    "print(\"PENALIZED LOGISTIC REGRESSION - L1\")\n",
    "print(\"Before Gridsearch: {:.6f}\".format(pen_logreg_scaled_l1.score(X_test_scaled, y_test)))\n",
    "print(\"After Gridsearch: {:.6f}\".format(pen_logreg_grid_l1.score(X_test_scaled, y_test)))\n",
    "print(\"\")\n",
    "print(\"PENALIZED LOGISTIC REGRESSION - L2\")\n",
    "print(\"Before Gridsearch: {:.6f}\".format(pen_logreg_scaled_l2.score(X_test_scaled, y_test)))\n",
    "print(\"After Gridsearch: {:.6f}\".format(pen_logreg_grid_l2.score(X_test_scaled, y_test)))\n",
    "print(\"\")\n",
    "print(\"KNN CLASSIFIER\")\n",
    "print(\"Before Gridsearch: {:.6f}\".format(knn_scaled.score(X_test_scaled, y_test)))\n",
    "print(\"After Gridsearch: {:.6f}\".format(knn_grid.score(X_test_scaled, y_test)))"
   ]
  },
  {
   "cell_type": "markdown",
   "metadata": {
    "id": "-wVYguba0G96"
   },
   "source": [
    "**Answer:** Parameters recommended by Gridsearch make noticable improvements to the accuracy score for the KNN model, but new parameters recommended by Gridsearch do not a remarakable difference for the accuracy scores of the Logistic or Penalized Logistic Regression models."
   ]
  },
  {
   "cell_type": "markdown",
   "metadata": {
    "id": "cFPsiwVJ_qov"
   },
   "source": [
    "## 2.4a Change the cross-validation strategy in GridSearchCV from ‘stratified k-fold’ to ‘kfold’ with shuffling. Do the parameters for models that can be tuned change? "
   ]
  },
  {
   "cell_type": "code",
   "execution_count": null,
   "metadata": {
    "id": "IXLZIXoZK7AL"
   },
   "outputs": [],
   "source": [
    "from sklearn.model_selection import KFold\n",
    "from sklearn.model_selection import StratifiedKFold\n",
    "\n",
    "# Set up function parameters for different cross validation strategies\n",
    "kfold = KFold(n_splits=5, shuffle=True)\n",
    "skfold = StratifiedKFold(n_splits=5, shuffle=True) "
   ]
  },
  {
   "cell_type": "markdown",
   "metadata": {
    "id": "RiwvE2_bJ4kT"
   },
   "source": [
    "### Logistic Regression"
   ]
  },
  {
   "cell_type": "code",
   "execution_count": null,
   "metadata": {
    "colab": {
     "base_uri": "https://localhost:8080/"
    },
    "id": "ihYRtWf5CEfH",
    "outputId": "4e679b1e-f0b1-4221-fa68-05f5839c82fb"
   },
   "outputs": [
    {
     "name": "stdout",
     "output_type": "stream",
     "text": [
      "Logistic Regression, GridSearchCV, stratified k-fold\n",
      "Best Parameter: {'C': 1e-07}\n",
      "Best Cross-Validation Score: 0.994048\n",
      "Test set Score: 0.993231\n",
      "Logistic Regression, GridSearchCV, k-fold\n",
      "Best Parameter: {'C': 1e-07}\n",
      "Best Cross-Validation Score: 0.994458\n",
      "Test set Score: 0.993231\n"
     ]
    }
   ],
   "source": [
    "skfold = StratifiedKFold(shuffle=True)\n",
    "logreg_param_grid = {'C': [0.0000001, 0.000001, 0.00001, 0.0001, 0.001, 0.01, 0.1, 1, 10, 100, 1000]}\n",
    "logreg_grid_skf = GridSearchCV(LogisticRegression(penalty = 'none'), logreg_param_grid, cv = skfold)\n",
    "logreg_grid_skf.fit(X_train_scaled, y_train)\n",
    "\n",
    "print(\"Logistic Regression, GridSearchCV, stratified k-fold\")\n",
    "print(\"Best Parameter: {}\".format(logreg_grid_skf.best_params_))\n",
    "print(\"Best Cross-Validation Score: {:.6f}\".format(logreg_grid_skf.best_score_))\n",
    "print(\"Test set Score: {:.6f}\".format(logreg_grid_skf.score(X_test_scaled, y_test)))\n",
    "\n",
    "kfold = KFold(shuffle=True)\n",
    "logreg_param_grid = {'C': [0.0000001, 0.000001, 0.00001, 0.0001, 0.001, 0.01, 0.1, 1, 10, 100, 1000]}\n",
    "logreg_grid_kf = GridSearchCV(LogisticRegression(penalty = 'none'), logreg_param_grid, cv = kfold)\n",
    "logreg_grid_kf.fit(X_train_scaled, y_train)\n",
    "\n",
    "print(\"Logistic Regression, GridSearchCV, k-fold\")\n",
    "print(\"Best Parameter: {}\".format(logreg_grid_kf.best_params_))\n",
    "print(\"Best Cross-Validation Score: {:.6f}\".format(logreg_grid_kf.best_score_))\n",
    "print(\"Test set Score: {:.6f}\".format(logreg_grid_kf.score(X_test_scaled, y_test)))"
   ]
  },
  {
   "cell_type": "markdown",
   "metadata": {
    "id": "orjzTr0V0VtT"
   },
   "source": [
    "The parameter C does not change. "
   ]
  },
  {
   "cell_type": "markdown",
   "metadata": {
    "id": "G2AFsnZSJ7t1"
   },
   "source": [
    "### Penalized Logistic Regression"
   ]
  },
  {
   "cell_type": "code",
   "execution_count": null,
   "metadata": {
    "colab": {
     "base_uri": "https://localhost:8080/"
    },
    "id": "j83nhndpJKo-",
    "outputId": "c0856e2d-2ae0-4ad3-8ed4-0e292fee3215"
   },
   "outputs": [
    {
     "name": "stdout",
     "output_type": "stream",
     "text": [
      "Penalized Logistic Regression - L1, stratified k-fold\n",
      "Best Parameter: {'C': 1}\n",
      "Best Cross-Validation Score: 0.994\n",
      "Test set Score: 0.993\n",
      "Penalized Logistic Regression - L1, k-fold\n",
      "Best Parameter: {'C': 1}\n",
      "Best Cross-Validation Score: 0.994\n",
      "Test set Score: 0.993\n"
     ]
    }
   ],
   "source": [
    "logreg = LogisticRegression(penalty='l1', solver = 'liblinear')\n",
    "pen_logreg_param_grid = {'C': [0.000001, 0.00001, 0.0001, 0.001, 0.01, 0.1, 1, 10, 100, 1000]}\n",
    "pen_logreg_grid = GridSearchCV(logreg, pen_logreg_param_grid, cv = skfold)\n",
    "pen_logreg_grid.fit(X_train_scaled, y_train)\n",
    "\n",
    "print(\"Penalized Logistic Regression - L1, stratified k-fold\")\n",
    "print(\"Best Parameter: {}\".format(pen_logreg_grid.best_params_))\n",
    "print(\"Best Cross-Validation Score: {:.3f}\".format(pen_logreg_grid.best_score_))\n",
    "print(\"Test set Score: {:.3f}\".format(pen_logreg_grid.score(X_test_scaled, y_test)))\n",
    "\n",
    "logreg = LogisticRegression(penalty='l1', solver = 'liblinear')\n",
    "pen_logreg_param_grid = {'C': [0.000001, 0.00001, 0.0001, 0.001, 0.01, 0.1, 1, 10, 100, 1000]}\n",
    "pen_logreg_grid = GridSearchCV(logreg, pen_logreg_param_grid, cv = kfold)\n",
    "pen_logreg_grid.fit(X_train_scaled, y_train)\n",
    "\n",
    "print(\"Penalized Logistic Regression - L1, k-fold\")\n",
    "print(\"Best Parameter: {}\".format(pen_logreg_grid.best_params_))\n",
    "print(\"Best Cross-Validation Score: {:.3f}\".format(pen_logreg_grid.best_score_))\n",
    "print(\"Test set Score: {:.3f}\".format(pen_logreg_grid.score(X_test_scaled, y_test)))"
   ]
  },
  {
   "cell_type": "markdown",
   "metadata": {
    "id": "58oQD8WG0axP"
   },
   "source": [
    "The parameter C does not change. "
   ]
  },
  {
   "cell_type": "markdown",
   "metadata": {
    "id": "C3eRNEKfLbzB"
   },
   "source": [
    "### KNN Classifier"
   ]
  },
  {
   "cell_type": "code",
   "execution_count": null,
   "metadata": {
    "colab": {
     "base_uri": "https://localhost:8080/"
    },
    "id": "OZV26IQeKUbS",
    "outputId": "bede189b-6c86-4627-88cc-fe1528efc7b3"
   },
   "outputs": [
    {
     "name": "stdout",
     "output_type": "stream",
     "text": [
      "KNN for REGRESSION, stratified k-fold\n",
      "Best Parameter: {'n_neighbors': 6}\n",
      "Best Cross-Validation Score: 0.994\n",
      "Test set Score: 0.993\n",
      "KNN for REGRESSION, k-fold\n",
      "Best Parameter: {'n_neighbors': 2}\n",
      "Best Cross-Validation Score: 0.994\n",
      "Test set Score: 0.991\n"
     ]
    }
   ],
   "source": [
    "knn = KNeighborsClassifier()\n",
    "knn_param_grid = {'n_neighbors': range(1, 10)}\n",
    "knn_grid = GridSearchCV(knn, knn_param_grid, cv = skfold).fit(X_train_scaled, y_train)\n",
    "\n",
    "print(\"KNN for REGRESSION, stratified k-fold\")\n",
    "print(\"Best Parameter: {}\".format(knn_grid.best_params_))\n",
    "print(\"Best Cross-Validation Score: {:.3f}\".format(knn_grid.best_score_))\n",
    "print(\"Test set Score: {:.3f}\".format(knn_grid.score(X_test_scaled, y_test)))\n",
    "\n",
    "knn_grid = GridSearchCV(knn, knn_param_grid, cv = kfold).fit(X_train_scaled, y_train)\n",
    "\n",
    "print(\"KNN for REGRESSION, k-fold\")\n",
    "print(\"Best Parameter: {}\".format(knn_grid.best_params_))\n",
    "print(\"Best Cross-Validation Score: {:.3f}\".format(knn_grid.best_score_))\n",
    "print(\"Test set Score: {:.3f}\".format(knn_grid.score(X_test_scaled, y_test)))"
   ]
  },
  {
   "cell_type": "markdown",
   "metadata": {
    "id": "K9rw5pae0eBZ"
   },
   "source": [
    "The parameter n_neighbors changes. "
   ]
  },
  {
   "cell_type": "markdown",
   "metadata": {
    "id": "wvpV8urnKPXg"
   },
   "source": [
    "##2.4b Do they change if you change the random seed of the shuffling? "
   ]
  },
  {
   "cell_type": "markdown",
   "metadata": {
    "id": "vvfZwrP-MKmA"
   },
   "source": [
    "### Logistic Regression"
   ]
  },
  {
   "cell_type": "code",
   "execution_count": null,
   "metadata": {
    "colab": {
     "base_uri": "https://localhost:8080/"
    },
    "id": "gmOiIsQXLRno",
    "outputId": "5a90a3fc-2cfe-417c-e595-704fc6eb544a"
   },
   "outputs": [
    {
     "name": "stdout",
     "output_type": "stream",
     "text": [
      "Logistic Regression, GridSearchCV, stratified k-fold, random seed of shuffle 1\n",
      "Best Parameter: {'C': 1e-07}\n",
      "Best Cross-Validation Score: 0.993\n",
      "Test set Score: 0.993\n",
      "Logistic Regression, GridSearchCV, stratified k-fold, random seed of shuffle 42\n",
      "Best Parameter: {'C': 1e-07}\n",
      "Best Cross-Validation Score: 0.994\n",
      "Test set Score: 0.993\n"
     ]
    }
   ],
   "source": [
    "from sklearn.model_selection import GridSearchCV\n",
    "\n",
    "skfold_1 = StratifiedKFold(shuffle=True, random_state = 1)\n",
    "skfold_42 = StratifiedKFold(shuffle=True, random_state = 42)\n",
    "\n",
    "logreg_grid_skf = GridSearchCV(LogisticRegression(penalty = 'none'), logreg_param_grid, cv = skfold_1)\n",
    "logreg_grid_skf.fit(X_train_scaled, y_train)\n",
    "\n",
    "print(\"Logistic Regression, GridSearchCV, stratified k-fold, random seed of shuffle 1\")\n",
    "print(\"Best Parameter: {}\".format(logreg_grid_skf.best_params_))\n",
    "print(\"Best Cross-Validation Score: {:.3f}\".format(logreg_grid_skf.best_score_))\n",
    "print(\"Test set Score: {:.3f}\".format(logreg_grid_skf.score(X_test_scaled, y_test)))\n",
    "\n",
    "logreg_grid_skf = GridSearchCV(LogisticRegression(penalty = 'none'), logreg_param_grid, cv = skfold_42)\n",
    "logreg_grid_skf.fit(X_train_scaled, y_train)\n",
    "\n",
    "print(\"Logistic Regression, GridSearchCV, stratified k-fold, random seed of shuffle 42\")\n",
    "print(\"Best Parameter: {}\".format(logreg_grid_skf.best_params_))\n",
    "print(\"Best Cross-Validation Score: {:.3f}\".format(logreg_grid_skf.best_score_))\n",
    "print(\"Test set Score: {:.3f}\".format(logreg_grid_skf.score(X_test_scaled, y_test)))"
   ]
  },
  {
   "cell_type": "markdown",
   "metadata": {
    "id": "_vbwuAQ61XT1"
   },
   "source": [
    "The parameter C in Logistic Regression does not change"
   ]
  },
  {
   "cell_type": "markdown",
   "metadata": {
    "id": "eYOmwsq21hK7"
   },
   "source": [
    "### Penalized Logistic Regression"
   ]
  },
  {
   "cell_type": "code",
   "execution_count": null,
   "metadata": {
    "colab": {
     "base_uri": "https://localhost:8080/"
    },
    "id": "_VujtF_r1hu7",
    "outputId": "3d731f47-3708-45e4-b04a-b3a0d5edf657"
   },
   "outputs": [
    {
     "name": "stdout",
     "output_type": "stream",
     "text": [
      "Penalized Logistic Regression - L1, stratified k-fold, random seed of shuffle 1\n",
      "Best Parameter: {'C': 0.1}\n",
      "Best Cross-Validation Score: 0.994\n",
      "Test set Score: 0.991\n",
      "Penalized Logistic Regression - L1, stratified k-fold, random seed of shuffle 42\n",
      "Best Parameter: {'C': 1}\n",
      "Best Cross-Validation Score: 0.994\n",
      "Test set Score: 0.993\n"
     ]
    }
   ],
   "source": [
    "logreg = LogisticRegression(penalty='l1', solver = 'liblinear')\n",
    "pen_logreg_param_grid = {'C': [0.000001, 0.00001, 0.0001, 0.001, 0.01, 0.1, 1, 10, 100, 1000]}\n",
    "\n",
    "\n",
    "pen_logreg_grid = GridSearchCV(logreg, pen_logreg_param_grid, cv = skfold_1)\n",
    "pen_logreg_grid.fit(X_train_scaled, y_train)\n",
    "\n",
    "print(\"Penalized Logistic Regression - L1, stratified k-fold, random seed of shuffle 1\")\n",
    "print(\"Best Parameter: {}\".format(pen_logreg_grid.best_params_))\n",
    "print(\"Best Cross-Validation Score: {:.3f}\".format(pen_logreg_grid.best_score_))\n",
    "print(\"Test set Score: {:.3f}\".format(pen_logreg_grid.score(X_test_scaled, y_test)))\n",
    "\n",
    "pen_logreg_grid = GridSearchCV(logreg, pen_logreg_param_grid, cv = skfold_42)\n",
    "pen_logreg_grid.fit(X_train_scaled, y_train)\n",
    "\n",
    "print(\"Penalized Logistic Regression - L1, stratified k-fold, random seed of shuffle 42\")\n",
    "print(\"Best Parameter: {}\".format(pen_logreg_grid.best_params_))\n",
    "print(\"Best Cross-Validation Score: {:.3f}\".format(pen_logreg_grid.best_score_))\n",
    "print(\"Test set Score: {:.3f}\".format(pen_logreg_grid.score(X_test_scaled, y_test)))"
   ]
  },
  {
   "cell_type": "markdown",
   "metadata": {
    "id": "K5k-ZHiH166L"
   },
   "source": [
    "The parameter C in Penalized Logistic Regression will change when we change the random seed of the shuffling. "
   ]
  },
  {
   "cell_type": "markdown",
   "metadata": {
    "id": "PVHirrtlMQhK"
   },
   "source": [
    "### KNN Classifier"
   ]
  },
  {
   "cell_type": "code",
   "execution_count": null,
   "metadata": {
    "colab": {
     "base_uri": "https://localhost:8080/"
    },
    "id": "vjVNb25LMSHc",
    "outputId": "c2440e3a-6e75-4945-95f4-90d67cc38f99"
   },
   "outputs": [
    {
     "name": "stdout",
     "output_type": "stream",
     "text": [
      "KNN for REGRESSION, stratified k-fold, random seed of shuffle 1\n",
      "Best Parameter: {'n_neighbors': 2}\n",
      "Best Cross-Validation Score: 0.994\n",
      "Test set Score: 0.991\n",
      "KNN for REGRESSION, stratified k-fold, random seed of shuffle 42\n",
      "Best Parameter: {'n_neighbors': 6}\n",
      "Best Cross-Validation Score: 0.994\n",
      "Test set Score: 0.993\n"
     ]
    }
   ],
   "source": [
    "knn = KNeighborsClassifier()\n",
    "knn_param_grid = {'n_neighbors': range(1, 10)}\n",
    "\n",
    "knn_grid = GridSearchCV(knn, knn_param_grid, cv = skfold_1).fit(X_train_scaled, y_train)\n",
    "\n",
    "print(\"KNN for REGRESSION, stratified k-fold, random seed of shuffle 1\")\n",
    "print(\"Best Parameter: {}\".format(knn_grid.best_params_))\n",
    "print(\"Best Cross-Validation Score: {:.3f}\".format(knn_grid.best_score_))\n",
    "print(\"Test set Score: {:.3f}\".format(knn_grid.score(X_test_scaled, y_test)))\n",
    "\n",
    "knn_grid = GridSearchCV(knn, knn_param_grid, cv = skfold_42).fit(X_train_scaled, y_train)\n",
    "\n",
    "print(\"KNN for REGRESSION, stratified k-fold, random seed of shuffle 42\")\n",
    "print(\"Best Parameter: {}\".format(knn_grid.best_params_))\n",
    "print(\"Best Cross-Validation Score: {:.3f}\".format(knn_grid.best_score_))\n",
    "print(\"Test set Score: {:.3f}\".format(knn_grid.score(X_test_scaled, y_test)))"
   ]
  },
  {
   "cell_type": "markdown",
   "metadata": {
    "id": "W7_sn7ki2NaC"
   },
   "source": [
    "The parameter n_neighbors will change when we change the random seed of the shuffling. "
   ]
  },
  {
   "cell_type": "markdown",
   "metadata": {
    "id": "ldWApeO7MmUU"
   },
   "source": [
    "##2.4c Or if you change the random state of the split into training and test data?"
   ]
  },
  {
   "cell_type": "markdown",
   "metadata": {
    "id": "a6E9NzaI3niF"
   },
   "source": [
    "### Prepare data with different random states of the split"
   ]
  },
  {
   "cell_type": "code",
   "execution_count": null,
   "metadata": {
    "id": "-qSbxuWt3m25"
   },
   "outputs": [],
   "source": [
    "X_train_1, X_test_1, y_train_1, y_test_1 = train_test_split(X, y, random_state = 22)\n",
    "scaler_1 = StandardScaler().fit(X_train_1)\n",
    "X_train_scaled_1 = scaler_1.transform(X_train_1)\n",
    "X_test_scaled_1 = scaler_1.transform(X_test_1)\n",
    "\n",
    "X_train_2, X_test_2, y_train_2, y_test_2 = train_test_split(X, y, random_state = 42)\n",
    "scaler_2 = StandardScaler().fit(X_train_2)\n",
    "X_train_scaled_2 = scaler_2.transform(X_train_2)\n",
    "X_test_scaled_2 = scaler_2.transform(X_test_2)"
   ]
  },
  {
   "cell_type": "markdown",
   "metadata": {
    "id": "E7aqR5neNht9"
   },
   "source": [
    "### Logistic Regression"
   ]
  },
  {
   "cell_type": "code",
   "execution_count": null,
   "metadata": {
    "colab": {
     "base_uri": "https://localhost:8080/"
    },
    "id": "z-LDUdqGMoGf",
    "outputId": "f769c201-f4b5-490a-9a1d-bb3305bf5d61"
   },
   "outputs": [
    {
     "name": "stdout",
     "output_type": "stream",
     "text": [
      "LOGISTIC REGRESSION (SCALED DATA), random state of the split 22\n",
      "Best Parameter: {'C': 1e-06}\n",
      "Best Cross-Validation Score: 0.993\n",
      "Test set Score: 0.993\n",
      "LOGISTIC REGRESSION (SCALED DATA), random state of the split 42\n",
      "Best Parameter: {'C': 1e-06}\n",
      "Best Cross-Validation Score: 0.994\n",
      "Test set Score: 0.993\n"
     ]
    }
   ],
   "source": [
    "logreg_param_grid = {'C': [0.000001, 0.00001, 0.0001, 0.001, 0.01, 0.1, 1, 10, 100, 1000]}\n",
    "logreg_grid = GridSearchCV(LogisticRegression(penalty = 'none'), logreg_param_grid).fit(X_train_scaled_1, y_train_1)\n",
    "\n",
    "print(\"LOGISTIC REGRESSION (SCALED DATA), random state of the split 22\")\n",
    "print(\"Best Parameter: {}\".format(logreg_grid.best_params_))\n",
    "print(\"Best Cross-Validation Score: {:.3f}\".format(logreg_grid.best_score_))\n",
    "print(\"Test set Score: {:.3f}\".format(logreg_grid.score(X_test_scaled_1, y_test_1)))\n",
    "\n",
    "logreg_grid = GridSearchCV(LogisticRegression(penalty = 'none'), logreg_param_grid).fit(X_train_scaled_2, y_train_2)\n",
    "\n",
    "print(\"LOGISTIC REGRESSION (SCALED DATA), random state of the split 42\")\n",
    "print(\"Best Parameter: {}\".format(logreg_grid.best_params_))\n",
    "print(\"Best Cross-Validation Score: {:.3f}\".format(logreg_grid.best_score_))\n",
    "print(\"Test set Score: {:.3f}\".format(logreg_grid.score(X_test_scaled_2, y_test_2)))\n"
   ]
  },
  {
   "cell_type": "markdown",
   "metadata": {
    "id": "mEx9wlkV2j8P"
   },
   "source": [
    "The parameter C in Logistic Regression does not change. "
   ]
  },
  {
   "cell_type": "markdown",
   "metadata": {
    "id": "NnizF3XD3Dli"
   },
   "source": [
    "### L1-Penalized Logistic Regression"
   ]
  },
  {
   "cell_type": "code",
   "execution_count": null,
   "metadata": {
    "colab": {
     "base_uri": "https://localhost:8080/"
    },
    "id": "q3S0jzCH2tD2",
    "outputId": "0af079dc-c6c7-4f68-ee04-8d6b30011ccf"
   },
   "outputs": [
    {
     "name": "stdout",
     "output_type": "stream",
     "text": [
      "Penalized Logistic Regression - L1, stratified k-fold random state of shuffling 42, random state of the split 22\n",
      "Best Parameter: {'C': 10}\n",
      "Best Cross-Validation Score: 0.994\n",
      "Test set Score: 0.993\n",
      "Penalized Logistic Regression - L1, stratified k-fold random state of shuffling 42, random state of the split 42\n",
      "Best Parameter: {'C': 1}\n",
      "Best Cross-Validation Score: 0.994\n",
      "Test set Score: 0.993\n"
     ]
    }
   ],
   "source": [
    "logreg = LogisticRegression(penalty='l1', solver = 'liblinear')\n",
    "pen_logreg_param_grid = {'C': [0.000001, 0.00001, 0.0001, 0.001, 0.01, 0.1, 1, 10, 100, 1000]}\n",
    "\n",
    "pen_logreg_grid = GridSearchCV(logreg, pen_logreg_param_grid, cv = skfold_42)\n",
    "pen_logreg_grid.fit(X_train_scaled_1, y_train_1)\n",
    "\n",
    "print(\"Penalized Logistic Regression - L1, stratified k-fold random state of shuffling 42, random state of the split 22\")\n",
    "print(\"Best Parameter: {}\".format(pen_logreg_grid.best_params_))\n",
    "print(\"Best Cross-Validation Score: {:.3f}\".format(pen_logreg_grid.best_score_))\n",
    "print(\"Test set Score: {:.3f}\".format(pen_logreg_grid.score(X_test_scaled_1, y_test_1)))\n",
    "\n",
    "pen_logreg_grid = GridSearchCV(logreg, pen_logreg_param_grid, cv = skfold_42)\n",
    "pen_logreg_grid.fit(X_train_scaled_2, y_train_2)\n",
    "\n",
    "print(\"Penalized Logistic Regression - L1, stratified k-fold random state of shuffling 42, random state of the split 42\")\n",
    "print(\"Best Parameter: {}\".format(pen_logreg_grid.best_params_))\n",
    "print(\"Best Cross-Validation Score: {:.3f}\".format(pen_logreg_grid.best_score_))\n",
    "print(\"Test set Score: {:.3f}\".format(pen_logreg_grid.score(X_test_scaled_2, y_test_2)))"
   ]
  },
  {
   "cell_type": "markdown",
   "metadata": {
    "id": "uM0vGTvz3WfO"
   },
   "source": [
    "The parameter C in penalized logistic regression change from 10 to 1."
   ]
  },
  {
   "cell_type": "markdown",
   "metadata": {
    "id": "Sj4FmZWUNl6d"
   },
   "source": [
    "### KNN Classifier"
   ]
  },
  {
   "cell_type": "code",
   "execution_count": null,
   "metadata": {
    "colab": {
     "base_uri": "https://localhost:8080/"
    },
    "id": "4mg2f8PuNgyN",
    "outputId": "8daf26b5-9cdb-4d50-8599-73de230faa65"
   },
   "outputs": [
    {
     "name": "stdout",
     "output_type": "stream",
     "text": [
      "KNN for REGRESSION, random seed of splitting 22\n",
      "Best Parameter: {'n_neighbors': 6}\n",
      "Best Cross-Validation Score: 0.994\n",
      "Test set Score: 0.994\n",
      "KNN for REGRESSION, random seed of splitting 42\n",
      "Best Parameter: {'n_neighbors': 6}\n",
      "Best Cross-Validation Score: 0.994\n",
      "Test set Score: 0.993\n"
     ]
    }
   ],
   "source": [
    "knn_param_grid = {'n_neighbors': range(1, 10)}\n",
    "knn_grid = GridSearchCV(KNeighborsClassifier(), knn_param_grid).fit(X_train_scaled_1, y_train_1)\n",
    "\n",
    "print(\"KNN for REGRESSION, random seed of splitting 22\")\n",
    "print(\"Best Parameter: {}\".format(knn_grid.best_params_))\n",
    "print(\"Best Cross-Validation Score: {:.3f}\".format(knn_grid.best_score_))\n",
    "print(\"Test set Score: {:.3f}\".format(knn_grid.score(X_test_scaled_1, y_test_1)))\n",
    "\n",
    "knn_grid = GridSearchCV(KNeighborsClassifier(), knn_param_grid).fit(X_train_scaled_2, y_train_2)\n",
    "\n",
    "print(\"KNN for REGRESSION, random seed of splitting 42\")\n",
    "print(\"Best Parameter: {}\".format(knn_grid.best_params_))\n",
    "print(\"Best Cross-Validation Score: {:.3f}\".format(knn_grid.best_score_))\n",
    "print(\"Test set Score: {:.3f}\".format(knn_grid.score(X_test_scaled_2, y_test_2)))"
   ]
  },
  {
   "cell_type": "markdown",
   "metadata": {
    "id": "zFG8O9SX6kCi"
   },
   "source": [
    "The parameter n_neighbors does not change. "
   ]
  },
  {
   "cell_type": "markdown",
   "metadata": {
    "id": "nWd5kFRJkJyF"
   },
   "source": [
    "## 2.5 Lastly, compare the coefficients for Logistic Regression and Penalized Logistic Regression and discuss which final model you would choose to predict new data."
   ]
  },
  {
   "cell_type": "code",
   "execution_count": null,
   "metadata": {
    "colab": {
     "base_uri": "https://localhost:8080/",
     "height": 359
    },
    "id": "N_7vs7VC_40M",
    "outputId": "8a5f2597-03c7-4284-c43e-3e1c02df0bec"
   },
   "outputs": [
    {
     "data": {
      "text/html": [
       "<div>\n",
       "<style scoped>\n",
       "    .dataframe tbody tr th:only-of-type {\n",
       "        vertical-align: middle;\n",
       "    }\n",
       "\n",
       "    .dataframe tbody tr th {\n",
       "        vertical-align: top;\n",
       "    }\n",
       "\n",
       "    .dataframe thead th {\n",
       "        text-align: right;\n",
       "    }\n",
       "</style>\n",
       "<table border=\"1\" class=\"dataframe\">\n",
       "  <thead>\n",
       "    <tr style=\"text-align: right;\">\n",
       "      <th></th>\n",
       "      <th>fixed acidity</th>\n",
       "      <th>volatile acidity</th>\n",
       "      <th>citric acid</th>\n",
       "      <th>residual sugar</th>\n",
       "      <th>chlorides</th>\n",
       "      <th>free sulfur dioxide</th>\n",
       "      <th>total sulfur dioxide</th>\n",
       "      <th>density</th>\n",
       "      <th>pH</th>\n",
       "      <th>sulphates</th>\n",
       "      <th>alcohol</th>\n",
       "      <th>quality</th>\n",
       "    </tr>\n",
       "  </thead>\n",
       "  <tbody>\n",
       "    <tr>\n",
       "      <th>Logistic Regression Coefficients</th>\n",
       "      <td>0.781301</td>\n",
       "      <td>13.386510</td>\n",
       "      <td>-2.873397</td>\n",
       "      <td>-0.169794</td>\n",
       "      <td>2.032668</td>\n",
       "      <td>0.073992</td>\n",
       "      <td>-0.078192</td>\n",
       "      <td>-2.528973</td>\n",
       "      <td>1.174202</td>\n",
       "      <td>10.639989</td>\n",
       "      <td>-0.925920</td>\n",
       "      <td>-0.030997</td>\n",
       "    </tr>\n",
       "    <tr>\n",
       "      <th>Penalized Logistic Regression Coefficients - L1</th>\n",
       "      <td>0.919235</td>\n",
       "      <td>11.462589</td>\n",
       "      <td>0.000000</td>\n",
       "      <td>-0.125121</td>\n",
       "      <td>15.215872</td>\n",
       "      <td>0.059326</td>\n",
       "      <td>-0.066636</td>\n",
       "      <td>-9.013786</td>\n",
       "      <td>4.827119</td>\n",
       "      <td>8.350849</td>\n",
       "      <td>-0.614992</td>\n",
       "      <td>-0.046947</td>\n",
       "    </tr>\n",
       "    <tr>\n",
       "      <th>Penalized Logistic Regression Coefficients - L2</th>\n",
       "      <td>0.669844</td>\n",
       "      <td>8.316923</td>\n",
       "      <td>-1.881274</td>\n",
       "      <td>-0.155120</td>\n",
       "      <td>1.245900</td>\n",
       "      <td>0.052601</td>\n",
       "      <td>-0.065711</td>\n",
       "      <td>-1.344985</td>\n",
       "      <td>1.397932</td>\n",
       "      <td>6.502540</td>\n",
       "      <td>-0.784400</td>\n",
       "      <td>-0.102814</td>\n",
       "    </tr>\n",
       "    <tr>\n",
       "      <th>Scaled Logistic Regression Coefficients</th>\n",
       "      <td>-0.396933</td>\n",
       "      <td>1.155973</td>\n",
       "      <td>-0.464869</td>\n",
       "      <td>-5.603123</td>\n",
       "      <td>0.759642</td>\n",
       "      <td>1.435934</td>\n",
       "      <td>-3.336956</td>\n",
       "      <td>5.750060</td>\n",
       "      <td>-0.288440</td>\n",
       "      <td>0.437953</td>\n",
       "      <td>2.317036</td>\n",
       "      <td>0.186765</td>\n",
       "    </tr>\n",
       "    <tr>\n",
       "      <th>Scaled Penalized Logistic Regression Coefficients - L1</th>\n",
       "      <td>-0.033891</td>\n",
       "      <td>1.178414</td>\n",
       "      <td>-0.397744</td>\n",
       "      <td>-4.541071</td>\n",
       "      <td>0.742800</td>\n",
       "      <td>1.157368</td>\n",
       "      <td>-3.059747</td>\n",
       "      <td>4.668079</td>\n",
       "      <td>0.000000</td>\n",
       "      <td>0.484310</td>\n",
       "      <td>1.777803</td>\n",
       "      <td>0.167142</td>\n",
       "    </tr>\n",
       "    <tr>\n",
       "      <th>Scaled Penalized Logistic Regression Coefficients - L2</th>\n",
       "      <td>0.355438</td>\n",
       "      <td>1.280869</td>\n",
       "      <td>-0.359597</td>\n",
       "      <td>-3.521214</td>\n",
       "      <td>0.793006</td>\n",
       "      <td>0.928958</td>\n",
       "      <td>-2.918439</td>\n",
       "      <td>3.497433</td>\n",
       "      <td>0.320909</td>\n",
       "      <td>0.635613</td>\n",
       "      <td>1.204437</td>\n",
       "      <td>0.162930</td>\n",
       "    </tr>\n",
       "  </tbody>\n",
       "</table>\n",
       "</div>"
      ],
      "text/plain": [
       "                                                    fixed acidity  ...   quality\n",
       "Logistic Regression Coefficients                         0.781301  ... -0.030997\n",
       "Penalized Logistic Regression Coefficients - L1          0.919235  ... -0.046947\n",
       "Penalized Logistic Regression Coefficients - L2          0.669844  ... -0.102814\n",
       "Scaled Logistic Regression Coefficients                 -0.396933  ...  0.186765\n",
       "Scaled Penalized Logistic Regression Coefficien...      -0.033891  ...  0.167142\n",
       "Scaled Penalized Logistic Regression Coefficien...       0.355438  ...  0.162930\n",
       "\n",
       "[6 rows x 12 columns]"
      ]
     },
     "execution_count": 74,
     "metadata": {},
     "output_type": "execute_result"
    }
   ],
   "source": [
    "# This dataframe is built using the c3 object that was created earlier in the code\n",
    "coefs = pd.concat(c3)\n",
    "coefs"
   ]
  },
  {
   "cell_type": "markdown",
   "metadata": {
    "id": "Rgg2ypKs0HAS"
   },
   "source": [
    "**Answer:** I would use Penalized Logistic Regression (L2 penalty) with scaled data to predict new data.  It has the added benefit of highlighting important varaibles. (Though several models predicted cross validated data and test data equally well such that students could justify choosing other models)"
   ]
  }
 ],
 "metadata": {
  "colab": {
   "provenance": [],
   "toc_visible": true
  },
  "kernelspec": {
   "display_name": "Python 3 (ipykernel)",
   "language": "python",
   "name": "python3"
  },
  "language_info": {
   "codemirror_mode": {
    "name": "ipython",
    "version": 3
   },
   "file_extension": ".py",
   "mimetype": "text/x-python",
   "name": "python",
   "nbconvert_exporter": "python",
   "pygments_lexer": "ipython3",
   "version": "3.9.12"
  }
 },
 "nbformat": 4,
 "nbformat_minor": 1
}
