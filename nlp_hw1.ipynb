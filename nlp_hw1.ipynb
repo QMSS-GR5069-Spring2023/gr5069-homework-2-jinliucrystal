{
 "cells": [
  {
   "cell_type": "markdown",
   "id": "918e8c5d",
   "metadata": {},
   "source": [
    "### 1.Example Code:\n",
    "\n",
    "for word in range(0, 100):\n",
    "    print (word)\n",
    "\n",
    "a.Change the example code to count down in increments of 1\n",
    "b.Change the example to count up in increments of 0.5"
   ]
  },
  {
   "cell_type": "code",
   "execution_count": 1,
   "id": "13aad3fe",
   "metadata": {},
   "outputs": [
    {
     "name": "stdout",
     "output_type": "stream",
     "text": [
      "100\n",
      "99\n",
      "98\n",
      "97\n",
      "96\n",
      "95\n",
      "94\n",
      "93\n",
      "92\n",
      "91\n",
      "90\n",
      "89\n",
      "88\n",
      "87\n",
      "86\n",
      "85\n",
      "84\n",
      "83\n",
      "82\n",
      "81\n",
      "80\n",
      "79\n",
      "78\n",
      "77\n",
      "76\n",
      "75\n",
      "74\n",
      "73\n",
      "72\n",
      "71\n",
      "70\n",
      "69\n",
      "68\n",
      "67\n",
      "66\n",
      "65\n",
      "64\n",
      "63\n",
      "62\n",
      "61\n",
      "60\n",
      "59\n",
      "58\n",
      "57\n",
      "56\n",
      "55\n",
      "54\n",
      "53\n",
      "52\n",
      "51\n",
      "50\n",
      "49\n",
      "48\n",
      "47\n",
      "46\n",
      "45\n",
      "44\n",
      "43\n",
      "42\n",
      "41\n",
      "40\n",
      "39\n",
      "38\n",
      "37\n",
      "36\n",
      "35\n",
      "34\n",
      "33\n",
      "32\n",
      "31\n",
      "30\n",
      "29\n",
      "28\n",
      "27\n",
      "26\n",
      "25\n",
      "24\n",
      "23\n",
      "22\n",
      "21\n",
      "20\n",
      "19\n",
      "18\n",
      "17\n",
      "16\n",
      "15\n",
      "14\n",
      "13\n",
      "12\n",
      "11\n",
      "10\n",
      "9\n",
      "8\n",
      "7\n",
      "6\n",
      "5\n",
      "4\n",
      "3\n",
      "2\n",
      "1\n"
     ]
    }
   ],
   "source": [
    "#a\n",
    "for word in range(100, 0,-1): \n",
    "    print (word)"
   ]
  },
  {
   "cell_type": "code",
   "execution_count": 2,
   "id": "fcd03243",
   "metadata": {},
   "outputs": [
    {
     "name": "stdout",
     "output_type": "stream",
     "text": [
      "0.5\n",
      "1.0\n",
      "1.5\n",
      "2.0\n",
      "2.5\n",
      "3.0\n",
      "3.5\n",
      "4.0\n",
      "4.5\n",
      "5.0\n",
      "5.5\n",
      "6.0\n",
      "6.5\n",
      "7.0\n",
      "7.5\n",
      "8.0\n",
      "8.5\n",
      "9.0\n",
      "9.5\n",
      "10.0\n",
      "10.5\n",
      "11.0\n",
      "11.5\n",
      "12.0\n",
      "12.5\n",
      "13.0\n",
      "13.5\n",
      "14.0\n",
      "14.5\n",
      "15.0\n",
      "15.5\n",
      "16.0\n",
      "16.5\n",
      "17.0\n",
      "17.5\n",
      "18.0\n",
      "18.5\n",
      "19.0\n",
      "19.5\n",
      "20.0\n",
      "20.5\n",
      "21.0\n",
      "21.5\n",
      "22.0\n",
      "22.5\n",
      "23.0\n",
      "23.5\n",
      "24.0\n",
      "24.5\n",
      "25.0\n",
      "25.5\n",
      "26.0\n",
      "26.5\n",
      "27.0\n",
      "27.5\n",
      "28.0\n",
      "28.5\n",
      "29.0\n",
      "29.5\n",
      "30.0\n",
      "30.5\n",
      "31.0\n",
      "31.5\n",
      "32.0\n",
      "32.5\n",
      "33.0\n",
      "33.5\n",
      "34.0\n",
      "34.5\n",
      "35.0\n",
      "35.5\n",
      "36.0\n",
      "36.5\n",
      "37.0\n",
      "37.5\n",
      "38.0\n",
      "38.5\n",
      "39.0\n",
      "39.5\n",
      "40.0\n",
      "40.5\n",
      "41.0\n",
      "41.5\n",
      "42.0\n",
      "42.5\n",
      "43.0\n",
      "43.5\n",
      "44.0\n",
      "44.5\n",
      "45.0\n",
      "45.5\n",
      "46.0\n",
      "46.5\n",
      "47.0\n",
      "47.5\n",
      "48.0\n",
      "48.5\n",
      "49.0\n",
      "49.5\n",
      "50.0\n",
      "50.5\n",
      "51.0\n",
      "51.5\n",
      "52.0\n",
      "52.5\n",
      "53.0\n",
      "53.5\n",
      "54.0\n",
      "54.5\n",
      "55.0\n",
      "55.5\n",
      "56.0\n",
      "56.5\n",
      "57.0\n",
      "57.5\n",
      "58.0\n",
      "58.5\n",
      "59.0\n",
      "59.5\n",
      "60.0\n",
      "60.5\n",
      "61.0\n",
      "61.5\n",
      "62.0\n",
      "62.5\n",
      "63.0\n",
      "63.5\n",
      "64.0\n",
      "64.5\n",
      "65.0\n",
      "65.5\n",
      "66.0\n",
      "66.5\n",
      "67.0\n",
      "67.5\n",
      "68.0\n",
      "68.5\n",
      "69.0\n",
      "69.5\n",
      "70.0\n",
      "70.5\n",
      "71.0\n",
      "71.5\n",
      "72.0\n",
      "72.5\n",
      "73.0\n",
      "73.5\n",
      "74.0\n",
      "74.5\n",
      "75.0\n",
      "75.5\n",
      "76.0\n",
      "76.5\n",
      "77.0\n",
      "77.5\n",
      "78.0\n",
      "78.5\n",
      "79.0\n",
      "79.5\n",
      "80.0\n",
      "80.5\n",
      "81.0\n",
      "81.5\n",
      "82.0\n",
      "82.5\n",
      "83.0\n",
      "83.5\n",
      "84.0\n",
      "84.5\n",
      "85.0\n",
      "85.5\n",
      "86.0\n",
      "86.5\n",
      "87.0\n",
      "87.5\n",
      "88.0\n",
      "88.5\n",
      "89.0\n",
      "89.5\n",
      "90.0\n",
      "90.5\n",
      "91.0\n",
      "91.5\n",
      "92.0\n",
      "92.5\n",
      "93.0\n",
      "93.5\n",
      "94.0\n",
      "94.5\n",
      "95.0\n",
      "95.5\n",
      "96.0\n",
      "96.5\n",
      "97.0\n",
      "97.5\n",
      "98.0\n",
      "98.5\n",
      "99.0\n",
      "99.5\n",
      "100.0\n"
     ]
    }
   ],
   "source": [
    "#b\n",
    "count = 0\n",
    "for i in range(0,200):\n",
    "    count += 0.5\n",
    "    print(count)"
   ]
  },
  {
   "cell_type": "markdown",
   "id": "057d120b",
   "metadata": {},
   "source": [
    "### 2.Change the loop statement below to an inline for loop statement:\n",
    "\n",
    "the_sentence = 'the student went above and beyond the call of duty on the homework'\n",
    "my_ar = list()\n",
    "\n",
    "for word in the_sentence.split():\n",
    "    my_ar.append(word)"
   ]
  },
  {
   "cell_type": "code",
   "execution_count": 3,
   "id": "3ea5915f",
   "metadata": {},
   "outputs": [
    {
     "data": {
      "text/plain": [
       "['the',\n",
       " 'student',\n",
       " 'went',\n",
       " 'above',\n",
       " 'and',\n",
       " 'beyond',\n",
       " 'the',\n",
       " 'call',\n",
       " 'of',\n",
       " 'duty',\n",
       " 'on',\n",
       " 'the',\n",
       " 'homework']"
      ]
     },
     "execution_count": 3,
     "metadata": {},
     "output_type": "execute_result"
    }
   ],
   "source": [
    "the_sentence = 'the student went above and beyond the call of duty on the homework'\n",
    "my_ar = [word for word in the_sentence.split()]\n",
    "my_ar"
   ]
  },
  {
   "cell_type": "markdown",
   "id": "b1390023",
   "metadata": {},
   "source": [
    "### 3.Change the below code to NOT include the word orange:\n",
    "\n",
    "the_sentence = 'the blue cat jumped over the red dog, but the green cat landed on another orange cat'\n",
    "my_ar = [word for word in the_sentence.split()]"
   ]
  },
  {
   "cell_type": "code",
   "execution_count": 4,
   "id": "25faa5cc",
   "metadata": {},
   "outputs": [],
   "source": [
    "the_sentence = 'the blue cat jumped over the red dog, but the green cat landed on another orange cat' \n",
    "my_ar = [word for word in the_sentence.split()]"
   ]
  },
  {
   "cell_type": "code",
   "execution_count": 5,
   "id": "054f9ec4",
   "metadata": {},
   "outputs": [
    {
     "data": {
      "text/plain": [
       "'the blue cat jumped over the red dog, but the green cat landed on another cat'"
      ]
     },
     "execution_count": 5,
     "metadata": {},
     "output_type": "execute_result"
    }
   ],
   "source": [
    "my_ar = \" \".join([word for word in my_ar if word.lower() != \"orange\"])\n",
    "my_ar"
   ]
  },
  {
   "cell_type": "markdown",
   "id": "4fae066e",
   "metadata": {},
   "source": [
    "### 4.Create a program that removes all special characters from the sentence:\n",
    "\n",
    "the_sentence = 'woah!!! @student really #impressed me, & so did you!!!'"
   ]
  },
  {
   "cell_type": "code",
   "execution_count": 6,
   "id": "8a134a86",
   "metadata": {},
   "outputs": [],
   "source": [
    "import re\n",
    "def clean_text(str_in):\n",
    "    tmp = re.sub(\"[^A-Za-z0-9 ,]+\",\"\",str_in).lower().strip().replace(\"  \", \" \")\n",
    "    return tmp"
   ]
  },
  {
   "cell_type": "code",
   "execution_count": 7,
   "id": "a1fcf54e",
   "metadata": {},
   "outputs": [
    {
     "data": {
      "text/plain": [
       "'woah student really impressed me, so did you'"
      ]
     },
     "execution_count": 7,
     "metadata": {},
     "output_type": "execute_result"
    }
   ],
   "source": [
    "the_sentence = 'woah!!! @student really #impressed me, & so did you!!!'\n",
    "clean_text(the_sentence)"
   ]
  },
  {
   "cell_type": "markdown",
   "id": "41c59e54",
   "metadata": {},
   "source": [
    "### 5.Write a program that creates a sentence, each word separated by only one space, out of the following array and replace any special characters with no space, except the '!' characters\n",
    "\n",
    "the_ar = ['woah!!!','the','@student',' really^','# impressed','me,','and&','so','did','??you!!!']"
   ]
  },
  {
   "cell_type": "code",
   "execution_count": 8,
   "id": "0fac493d",
   "metadata": {},
   "outputs": [],
   "source": [
    "def Create_sentence(str_in):\n",
    "    result = []\n",
    "    for word in str_in:\n",
    "        result.append(re.sub(\"[^A-Za-z0-9,!]+\",\"\",word).lower().strip())\n",
    "    result = \" \".join(result)\n",
    "    return result"
   ]
  },
  {
   "cell_type": "code",
   "execution_count": 9,
   "id": "cab44a63",
   "metadata": {},
   "outputs": [
    {
     "data": {
      "text/plain": [
       "'woah!!! the student really impressed me, and so did you!!!'"
      ]
     },
     "execution_count": 9,
     "metadata": {},
     "output_type": "execute_result"
    }
   ],
   "source": [
    "the_ar = ['woah!!!','the','@student',' really^','# impressed','me,','and&','so','did','??you!!!']\n",
    "Create_sentence(the_ar)"
   ]
  },
  {
   "cell_type": "markdown",
   "id": "9de15807",
   "metadata": {},
   "source": [
    "### 6.Create a program that iterates 1 through 10 and returns 'the number: <number> is even' if the number is even and 'the number: <number> is odd’  if the number is odd."
   ]
  },
  {
   "cell_type": "code",
   "execution_count": 17,
   "id": "01c1e47a",
   "metadata": {},
   "outputs": [],
   "source": [
    "def test_evenness(number_in):\n",
    "        if number_in % 2 == 0:\n",
    "            return 'the number: is even'\n",
    "        else:\n",
    "            return 'the number: is odd'\n"
   ]
  },
  {
   "cell_type": "code",
   "execution_count": 18,
   "id": "a8ca77db",
   "metadata": {},
   "outputs": [
    {
     "ename": "NameError",
     "evalue": "name 'test' is not defined",
     "output_type": "error",
     "traceback": [
      "\u001b[0;31m---------------------------------------------------------------------------\u001b[0m",
      "\u001b[0;31mNameError\u001b[0m                                 Traceback (most recent call last)",
      "Input \u001b[0;32mIn [18]\u001b[0m, in \u001b[0;36m<cell line: 1>\u001b[0;34m()\u001b[0m\n\u001b[1;32m      1\u001b[0m \u001b[38;5;28;01mfor\u001b[39;00m i \u001b[38;5;129;01min\u001b[39;00m \u001b[38;5;28mrange\u001b[39m(\u001b[38;5;241m1\u001b[39m,\u001b[38;5;241m11\u001b[39m):\n\u001b[0;32m----> 2\u001b[0m     \u001b[38;5;28mprint\u001b[39m(\u001b[43mtest\u001b[49m(i))\n",
      "\u001b[0;31mNameError\u001b[0m: name 'test' is not defined"
     ]
    }
   ],
   "source": [
    "for i in range(1,11):\n",
    "    print(test(i))"
   ]
  },
  {
   "cell_type": "markdown",
   "id": "f85de3be",
   "metadata": {},
   "source": [
    "### 7.Create a program that counts the length of each word in an arbitrary sentence (variable called the_sentence) and stores each word count pair in a pandas dataframe where one column is the word and one column is the word length (number of characters)."
   ]
  },
  {
   "cell_type": "code",
   "execution_count": null,
   "id": "c70f6129",
   "metadata": {},
   "outputs": [],
   "source": [
    "import os\n",
    "import pandas as pd\n",
    "def check_length (the_sentence):\n",
    "    file_list = pd.DataFrame()\n",
    "    words = the_sentence.split()\n",
    "    for word in words:\n",
    "            length = len(word)\n",
    "            file_list = file_list.append(\n",
    "                {\"word\": word, \"length\": length}, ignore_index=True)\n",
    "    return file_list\n",
    "        \n",
    "import warnings\n",
    "with warnings.catch_warnings():\n",
    "    warnings.simplefilter(\"ignore\")"
   ]
  },
  {
   "cell_type": "code",
   "execution_count": null,
   "id": "c99d6bf3",
   "metadata": {},
   "outputs": [],
   "source": [
    "the_sentence = 'woah!!! @student really #impressed me, & so did you!!!'\n",
    "check_length(the_sentence)"
   ]
  },
  {
   "cell_type": "markdown",
   "id": "2f787823",
   "metadata": {},
   "source": [
    "### 8.Create a program that replaces any word of a sentence (variable called the_sentence) with an arbitrary word"
   ]
  },
  {
   "cell_type": "code",
   "execution_count": 12,
   "id": "eae72771",
   "metadata": {},
   "outputs": [],
   "source": [
    "def replace(str_input,replaced_word, new_word):\n",
    "    str_input = clean_text(str_input).split()\n",
    "    for i in range(len(str_input)):\n",
    "        if str_input[i] == replaced_word:\n",
    "            str_input[i] = new_word\n",
    "    return \" \".join(str_input)\n",
    "    "
   ]
  },
  {
   "cell_type": "code",
   "execution_count": 13,
   "id": "0c8061dc",
   "metadata": {},
   "outputs": [
    {
     "data": {
      "text/plain": [
       "'woah teacher really impressed me, so did you'"
      ]
     },
     "execution_count": 13,
     "metadata": {},
     "output_type": "execute_result"
    }
   ],
   "source": [
    "the_sentence = 'woah!!! @student really #impressed me, & so did you!!!'\n",
    "replace(the_sentence, 'student', 'teacher')"
   ]
  },
  {
   "cell_type": "markdown",
   "id": "581c440c",
   "metadata": {},
   "source": [
    "### 9.Cleanse the following sentence by removing all special characters except when the hyphen (-) joins to two words and exclamation (!) points\n",
    "\n",
    "the_sentence = 'The impact*of data-driven$^%&marketing approaches!!'"
   ]
  },
  {
   "cell_type": "code",
   "execution_count": 14,
   "id": "2f3213d8",
   "metadata": {},
   "outputs": [
    {
     "data": {
      "text/plain": [
       "'the impact of data-driven marketing approaches!!'"
      ]
     },
     "execution_count": 14,
     "metadata": {},
     "output_type": "execute_result"
    }
   ],
   "source": [
    "the_sentence = 'The impact*of data-driven$^%&marketing approaches!!'\n",
    "clean_txt = re.sub(\"[^A-Za-z0-9 !-]+\",\" \",the_sentence).lower().strip()\n",
    "clean_txt"
   ]
  },
  {
   "cell_type": "markdown",
   "id": "9923fc58",
   "metadata": {},
   "source": [
    "### 10.Write a python program that accepts an arbitrary sentence and returns a dictionary that has each unique ‘character’ as a key and the value which is the count of the number of times that character appears in that sentence.  Note: NOT word counts"
   ]
  },
  {
   "cell_type": "code",
   "execution_count": 15,
   "id": "cc977f2b",
   "metadata": {},
   "outputs": [],
   "source": [
    "def dictionary(str_input):\n",
    "    unique_chars = set(str_input)\n",
    "    count = {}\n",
    "    for i in unique_chars:\n",
    "        count[i] = str_input.count(i)\n",
    "    my_dict = {'unique_chars': count}\n",
    "    return count"
   ]
  },
  {
   "cell_type": "code",
   "execution_count": 16,
   "id": "7fd5138d",
   "metadata": {
    "scrolled": true
   },
   "outputs": [
    {
     "data": {
      "text/plain": [
       "{'a': 6,\n",
       " 'r': 3,\n",
       " '*': 1,\n",
       " '^': 1,\n",
       " 'g': 1,\n",
       " '!': 2,\n",
       " 'n': 2,\n",
       " 'p': 3,\n",
       " '-': 1,\n",
       " 'f': 1,\n",
       " 't': 3,\n",
       " 'm': 2,\n",
       " 'c': 2,\n",
       " '%': 1,\n",
       " ' ': 3,\n",
       " 'k': 1,\n",
       " 's': 1,\n",
       " 'i': 3,\n",
       " 'v': 1,\n",
       " 'h': 2,\n",
       " '$': 1,\n",
       " 'd': 2,\n",
       " 'o': 2,\n",
       " 'e': 4,\n",
       " 'T': 1,\n",
       " '&': 1}"
      ]
     },
     "execution_count": 16,
     "metadata": {},
     "output_type": "execute_result"
    }
   ],
   "source": [
    "the_sentence = 'The impact*of data-driven$^%&marketing approaches!!'\n",
    "dictionary(the_sentence)"
   ]
  },
  {
   "cell_type": "code",
   "execution_count": null,
   "id": "a3073fd4",
   "metadata": {},
   "outputs": [],
   "source": []
  },
  {
   "cell_type": "code",
   "execution_count": null,
   "id": "4c406ef0",
   "metadata": {},
   "outputs": [],
   "source": []
  },
  {
   "cell_type": "code",
   "execution_count": null,
   "id": "b3dd4af8",
   "metadata": {},
   "outputs": [],
   "source": []
  },
  {
   "cell_type": "code",
   "execution_count": null,
   "id": "2ad67266",
   "metadata": {},
   "outputs": [],
   "source": []
  }
 ],
 "metadata": {
  "kernelspec": {
   "display_name": "Python 3 (ipykernel)",
   "language": "python",
   "name": "python3"
  },
  "language_info": {
   "codemirror_mode": {
    "name": "ipython",
    "version": 3
   },
   "file_extension": ".py",
   "mimetype": "text/x-python",
   "name": "python",
   "nbconvert_exporter": "python",
   "pygments_lexer": "ipython3",
   "version": "3.9.12"
  }
 },
 "nbformat": 4,
 "nbformat_minor": 5
}
